{
  "nbformat": 4,
  "nbformat_minor": 0,
  "metadata": {
    "kernelspec": {
      "name": "python3",
      "display_name": "Python 3"
    },
    "language_info": {
      "codemirror_mode": {
        "name": "ipython",
        "version": 3
      },
      "file_extension": ".py",
      "mimetype": "text/x-python",
      "name": "python",
      "nbconvert_exporter": "python",
      "pygments_lexer": "ipython3",
      "version": "3.6.10"
    },
    "colab": {
      "name": "direct_digits.ipynb",
      "provenance": [],
      "collapsed_sections": [],
      "toc_visible": true
    },
    "accelerator": "GPU"
  },
  "cells": [
    {
      "cell_type": "code",
      "metadata": {
        "id": "aWC8rxlIVTcG",
        "colab_type": "code",
        "colab": {}
      },
      "source": [
        "import os"
      ],
      "execution_count": 0,
      "outputs": []
    },
    {
      "cell_type": "code",
      "metadata": {
        "id": "t1_cbLinVbPN",
        "colab_type": "code",
        "outputId": "f1533da6-6cec-42ae-feb5-2cb436255db3",
        "colab": {
          "base_uri": "https://localhost:8080/",
          "height": 122
        }
      },
      "source": [
        "from google.colab import drive\n",
        "drive.mount('/content/drive')"
      ],
      "execution_count": 2,
      "outputs": [
        {
          "output_type": "stream",
          "text": [
            "Go to this URL in a browser: https://accounts.google.com/o/oauth2/auth?client_id=947318989803-6bn6qk8qdgf4n4g3pfee6491hc0brc4i.apps.googleusercontent.com&redirect_uri=urn%3aietf%3awg%3aoauth%3a2.0%3aoob&response_type=code&scope=email%20https%3a%2f%2fwww.googleapis.com%2fauth%2fdocs.test%20https%3a%2f%2fwww.googleapis.com%2fauth%2fdrive%20https%3a%2f%2fwww.googleapis.com%2fauth%2fdrive.photos.readonly%20https%3a%2f%2fwww.googleapis.com%2fauth%2fpeopleapi.readonly\n",
            "\n",
            "Enter your authorization code:\n",
            "··········\n",
            "Mounted at /content/drive\n"
          ],
          "name": "stdout"
        }
      ]
    },
    {
      "cell_type": "markdown",
      "metadata": {
        "id": "us7vmlKmWgA5",
        "colab_type": "text"
      },
      "source": [
        "#Loading Data from rar file"
      ]
    },
    {
      "cell_type": "code",
      "metadata": {
        "id": "5_3YIbxAVTcT",
        "colab_type": "code",
        "outputId": "fbd7ba86-5263-4eb1-eedf-4ac974652091",
        "colab": {
          "base_uri": "https://localhost:8080/",
          "height": 136
        }
      },
      "source": [
        "file = \"/content/drive/My Drive/digits.rar\"\n",
        "!pip install rarfile\n",
        "!pip install patool\n",
        "from patoolib import extract_archive\n",
        "import os\n",
        "extract_to = 'data'\n",
        "os.mkdir(extract_to) \n",
        "extract_archive(file, outdir=extract_to)"
      ],
      "execution_count": 5,
      "outputs": [
        {
          "output_type": "stream",
          "text": [
            "Requirement already satisfied: rarfile in /usr/local/lib/python3.6/dist-packages (3.1)\n",
            "Requirement already satisfied: patool in /usr/local/lib/python3.6/dist-packages (1.12)\n",
            "patool: Extracting /content/drive/My Drive/digits.rar ...\n",
            "patool: running /usr/bin/unrar x -- \"/content/drive/My Drive/digits.rar\"\n",
            "patool:     with cwd='data'\n",
            "patool: ... /content/drive/My Drive/digits.rar extracted to `data'.\n"
          ],
          "name": "stdout"
        },
        {
          "output_type": "execute_result",
          "data": {
            "text/plain": [
              "'data'"
            ]
          },
          "metadata": {
            "tags": []
          },
          "execution_count": 5
        }
      ]
    },
    {
      "cell_type": "markdown",
      "metadata": {
        "id": "yLdBz06pWnUP",
        "colab_type": "text"
      },
      "source": [
        "#Preprossing DataSet"
      ]
    },
    {
      "cell_type": "code",
      "metadata": {
        "id": "T6HSqQCBVTcc",
        "colab_type": "code",
        "colab": {}
      },
      "source": [
        "data_dir = '/content/data/digits'"
      ],
      "execution_count": 0,
      "outputs": []
    },
    {
      "cell_type": "code",
      "metadata": {
        "id": "WpYNDzyJVTci",
        "colab_type": "code",
        "outputId": "b777d258-f49d-4eb0-c81a-0b1b57570c7a",
        "colab": {
          "base_uri": "https://localhost:8080/",
          "height": 34
        }
      },
      "source": [
        "os.listdir(data_dir)"
      ],
      "execution_count": 7,
      "outputs": [
        {
          "output_type": "execute_result",
          "data": {
            "text/plain": [
              "['train', 'test']"
            ]
          },
          "metadata": {
            "tags": []
          },
          "execution_count": 7
        }
      ]
    },
    {
      "cell_type": "code",
      "metadata": {
        "id": "ed58saFIVTcp",
        "colab_type": "code",
        "colab": {}
      },
      "source": [
        "import pandas as pd\n",
        "import numpy as np\n",
        "import seaborn as sns\n",
        "import matplotlib.pyplot as plt\n",
        "from matplotlib.image import imread"
      ],
      "execution_count": 0,
      "outputs": []
    },
    {
      "cell_type": "code",
      "metadata": {
        "id": "7HIkWZzyVTcv",
        "colab_type": "code",
        "colab": {}
      },
      "source": [
        "\n",
        "test_path = data_dir+\"/test/\"\n",
        "train_path = data_dir+\"/train/\""
      ],
      "execution_count": 0,
      "outputs": []
    },
    {
      "cell_type": "code",
      "metadata": {
        "id": "JZTRkgu2VTc4",
        "colab_type": "code",
        "outputId": "b78e0fed-852c-4a03-e1d0-596463b6d8b0",
        "colab": {
          "base_uri": "https://localhost:8080/",
          "height": 34
        }
      },
      "source": [
        "os.listdir(test_path)"
      ],
      "execution_count": 10,
      "outputs": [
        {
          "output_type": "execute_result",
          "data": {
            "text/plain": [
              "['3', '5', '6', '7', '9', '1', '2', '4', '8']"
            ]
          },
          "metadata": {
            "tags": []
          },
          "execution_count": 10
        }
      ]
    },
    {
      "cell_type": "code",
      "metadata": {
        "id": "p8Wer8yfVTc_",
        "colab_type": "code",
        "outputId": "d3c1d53b-50c4-4bea-ead9-c63df856926f",
        "colab": {
          "base_uri": "https://localhost:8080/",
          "height": 34
        }
      },
      "source": [
        "num_classes = len(os.listdir(train_path))\n",
        "num_classes"
      ],
      "execution_count": 12,
      "outputs": [
        {
          "output_type": "execute_result",
          "data": {
            "text/plain": [
              "9"
            ]
          },
          "metadata": {
            "tags": []
          },
          "execution_count": 12
        }
      ]
    },
    {
      "cell_type": "code",
      "metadata": {
        "id": "RNyEKvi4VTdF",
        "colab_type": "code",
        "outputId": "13077876-06ca-40a8-a77d-e8f9845a9368",
        "colab": {
          "base_uri": "https://localhost:8080/",
          "height": 34
        }
      },
      "source": [
        "os.listdir(train_path+'4')[0]"
      ],
      "execution_count": 13,
      "outputs": [
        {
          "output_type": "execute_result",
          "data": {
            "text/plain": [
              "'tmpf3o4tvkb.png'"
            ]
          },
          "metadata": {
            "tags": []
          },
          "execution_count": 13
        }
      ]
    },
    {
      "cell_type": "code",
      "metadata": {
        "id": "ND2NkQM9VTdL",
        "colab_type": "code",
        "colab": {}
      },
      "source": [
        "image_1_file_location =train_path+'4/'+ 'tmpf3o4tvkb.png'"
      ],
      "execution_count": 0,
      "outputs": []
    },
    {
      "cell_type": "code",
      "metadata": {
        "id": "QGRou6ZOVTdT",
        "colab_type": "code",
        "outputId": "e613fd06-f8ca-4262-8645-d746ee6c84ec",
        "colab": {
          "base_uri": "https://localhost:8080/",
          "height": 34
        }
      },
      "source": [
        "image_1_file_location"
      ],
      "execution_count": 15,
      "outputs": [
        {
          "output_type": "execute_result",
          "data": {
            "text/plain": [
              "'/content/data/digits/train/4/tmpf3o4tvkb.png'"
            ]
          },
          "metadata": {
            "tags": []
          },
          "execution_count": 15
        }
      ]
    },
    {
      "cell_type": "code",
      "metadata": {
        "id": "KpSZv8xBVTdY",
        "colab_type": "code",
        "outputId": "23811550-01f7-435a-b90b-d4376d9f9c2a",
        "colab": {
          "base_uri": "https://localhost:8080/",
          "height": 34
        }
      },
      "source": [
        "imread(image_1_file_location).shape"
      ],
      "execution_count": 16,
      "outputs": [
        {
          "output_type": "execute_result",
          "data": {
            "text/plain": [
              "(28, 28)"
            ]
          },
          "metadata": {
            "tags": []
          },
          "execution_count": 16
        }
      ]
    },
    {
      "cell_type": "code",
      "metadata": {
        "id": "ZelQKgY1VTde",
        "colab_type": "code",
        "outputId": "06d56da0-940b-442f-9bc1-d8e2344f4852",
        "colab": {
          "base_uri": "https://localhost:8080/",
          "height": 282
        }
      },
      "source": [
        "plt.imshow(imread(image_1_file_location))"
      ],
      "execution_count": 17,
      "outputs": [
        {
          "output_type": "execute_result",
          "data": {
            "text/plain": [
              "<matplotlib.image.AxesImage at 0x7f93fd12ef28>"
            ]
          },
          "metadata": {
            "tags": []
          },
          "execution_count": 17
        },
        {
          "output_type": "display_data",
          "data": {
            "image/png": "[encoded data removed]",
            "text/plain": [
              "<Figure size 432x288 with 1 Axes>"
            ]
          },
          "metadata": {
            "tags": []
          }
        }
      ]
    },
    {
      "cell_type": "code",
      "metadata": {
        "id": "T0H1A_w1VTdm",
        "colab_type": "code",
        "colab": {}
      },
      "source": [
        "image_shape = (28,28,1)"
      ],
      "execution_count": 0,
      "outputs": []
    },
    {
      "cell_type": "code",
      "metadata": {
        "id": "r7iDO6XuVTdr",
        "colab_type": "code",
        "colab": {
          "base_uri": "https://localhost:8080/",
          "height": 63
        },
        "outputId": "9a72a05f-8d30-4bd8-a256-c05dd5abcddd"
      },
      "source": [
        "from tensorflow.keras.preprocessing.image import ImageDataGenerator"
      ],
      "execution_count": 19,
      "outputs": [
        {
          "output_type": "display_data",
          "data": {
            "text/html": [
              "<p style=\"color: red;\">\n",
              "The default version of TensorFlow in Colab will soon switch to TensorFlow 2.x.<br>\n",
              "We recommend you <a href=\"https://www.tensorflow.org/guide/migrate\" target=\"_blank\">upgrade</a> now \n",
              "or ensure your notebook will continue to use TensorFlow 1.x via the <code>%tensorflow_version 1.x</code> magic:\n",
              "<a href=\"https://colab.research.google.com/notebooks/tensorflow_version.ipynb\" target=\"_blank\">more info</a>.</p>\n"
            ],
            "text/plain": [
              "<IPython.core.display.HTML object>"
            ]
          },
          "metadata": {
            "tags": []
          }
        }
      ]
    },
    {
      "cell_type": "markdown",
      "metadata": {
        "id": "4nzZB3gLWv_A",
        "colab_type": "text"
      },
      "source": [
        ""
      ]
    },
    {
      "cell_type": "code",
      "metadata": {
        "id": "MDdYub1BWyc5",
        "colab_type": "code",
        "colab": {}
      },
      "source": [
        ""
      ],
      "execution_count": 0,
      "outputs": []
    },
    {
      "cell_type": "code",
      "metadata": {
        "id": "CLPG4Y2pVTdy",
        "colab_type": "code",
        "colab": {}
      },
      "source": [
        "image_gen = ImageDataGenerator(rotation_range=20,\n",
        "                              width_shift_range=0.1,\n",
        "                              height_shift_range=0.1,\n",
        "                              shear_range=0.1,\n",
        "                              zoom_range=0.1,\n",
        "                              horizontal_flip=True,\n",
        "                              fill_mode='nearest')"
      ],
      "execution_count": 0,
      "outputs": []
    },
    {
      "cell_type": "code",
      "metadata": {
        "id": "gjFFCJg2VTd4",
        "colab_type": "code",
        "outputId": "60a20454-154d-416d-f4f5-2fbbbeb33541",
        "colab": {
          "base_uri": "https://localhost:8080/",
          "height": 51
        }
      },
      "source": [
        "image_gen.flow_from_directory(train_path)"
      ],
      "execution_count": 21,
      "outputs": [
        {
          "output_type": "stream",
          "text": [
            "Found 50861 images belonging to 9 classes.\n"
          ],
          "name": "stdout"
        },
        {
          "output_type": "execute_result",
          "data": {
            "text/plain": [
              "<keras_preprocessing.image.directory_iterator.DirectoryIterator at 0x7f93fd6145c0>"
            ]
          },
          "metadata": {
            "tags": []
          },
          "execution_count": 21
        }
      ]
    },
    {
      "cell_type": "code",
      "metadata": {
        "id": "H7RjHLxGVTd-",
        "colab_type": "code",
        "colab": {}
      },
      "source": [
        "from tensorflow.keras.models import Sequential\n",
        "from tensorflow.keras.layers import Flatten,Dense,Conv2D,MaxPooling2D,Dropout"
      ],
      "execution_count": 0,
      "outputs": []
    },
    {
      "cell_type": "code",
      "metadata": {
        "id": "gDpVVxrUVTeD",
        "colab_type": "code",
        "colab": {}
      },
      "source": [
        "model = Sequential()\n",
        "\n",
        "# CONVOLUTIONAL LAYER\n",
        "model.add(Conv2D(64, (5, 5), input_shape=(28, 28, 1), activation='relu', data_format=\"channels_last\", padding=\"same\"))\n",
        "model.add(Conv2D(64, (5, 5), input_shape=(28, 28, 1), activation='relu', data_format=\"channels_last\", padding=\"same\"))\n",
        "model.add(MaxPooling2D(pool_size=(2, 2)))\n",
        "\n",
        "\n",
        "model.add(Conv2D(128, (3, 3), activation='relu', data_format=\"channels_last\", padding=\"same\"))\n",
        "model.add(Conv2D(128, (3, 3), activation='relu', data_format=\"channels_last\", padding=\"same\"))\n",
        "model.add(MaxPooling2D(pool_size=(2, 2)))\n",
        "\n",
        "model.add(Dropout(0.2))\n",
        "\n",
        "\n",
        "model.add(Conv2D(256, (3, 3), activation='relu', data_format=\"channels_last\", padding=\"same\"))\n",
        "model.add(Conv2D(256, (3, 3), activation='relu', data_format=\"channels_last\", padding=\"same\"))\n",
        "model.add(MaxPooling2D(pool_size=(2, 2)))\n",
        "\n",
        "model.add(Dropout(0.2))\n",
        "\n",
        "model.add(Flatten())\n",
        "model.add(Dense(128, activation='relu'))\n",
        "#26 is the #of classes\n",
        "model.add(Dense(num_classes, activation='softmax'))\n",
        "\n",
        "model.compile(loss='categorical_crossentropy', optimizer='adam', metrics=['accuracy'])"
      ],
      "execution_count": 0,
      "outputs": []
    },
    {
      "cell_type": "code",
      "metadata": {
        "id": "eZ9wlKoaVTeI",
        "colab_type": "code",
        "colab": {}
      },
      "source": [
        "from tensorflow.keras.callbacks import EarlyStopping"
      ],
      "execution_count": 0,
      "outputs": []
    },
    {
      "cell_type": "code",
      "metadata": {
        "id": "zK8xXBTBVTeP",
        "colab_type": "code",
        "colab": {}
      },
      "source": [
        "early_stop = EarlyStopping(monitor='val_loss',patience=5)"
      ],
      "execution_count": 0,
      "outputs": []
    },
    {
      "cell_type": "code",
      "metadata": {
        "id": "FUNu82TrVTeW",
        "colab_type": "code",
        "colab": {}
      },
      "source": [
        "batch_size = 256"
      ],
      "execution_count": 0,
      "outputs": []
    },
    {
      "cell_type": "code",
      "metadata": {
        "id": "Uio1HYjCVTeb",
        "colab_type": "code",
        "outputId": "5b133d85-c938-4413-fda6-534ae3ea518f",
        "colab": {
          "base_uri": "https://localhost:8080/",
          "height": 34
        }
      },
      "source": [
        "train_image_gen = image_gen.flow_from_directory(train_path,\n",
        "                                                target_size=image_shape[:2],\n",
        "                                                color_mode='grayscale',\n",
        "                                               batch_size=batch_size,\n",
        "                                               class_mode='categorical')"
      ],
      "execution_count": 27,
      "outputs": [
        {
          "output_type": "stream",
          "text": [
            "Found 50861 images belonging to 9 classes.\n"
          ],
          "name": "stdout"
        }
      ]
    },
    {
      "cell_type": "code",
      "metadata": {
        "id": "XQadKX7oVTeg",
        "colab_type": "code",
        "outputId": "912c07fe-e41c-4b27-f97a-45b77b0726b1",
        "colab": {
          "base_uri": "https://localhost:8080/",
          "height": 34
        }
      },
      "source": [
        "test_image_gen = image_gen.flow_from_directory(test_path,\n",
        "                                                target_size=image_shape[:2],\n",
        "                                                color_mode='grayscale',\n",
        "                                               class_mode='categorical',\n",
        "                                               batch_size=batch_size,\n",
        "                                               shuffle=False)"
      ],
      "execution_count": 28,
      "outputs": [
        {
          "output_type": "stream",
          "text": [
            "Found 461 images belonging to 9 classes.\n"
          ],
          "name": "stdout"
        }
      ]
    },
    {
      "cell_type": "code",
      "metadata": {
        "id": "E1clxjwIVTel",
        "colab_type": "code",
        "outputId": "d1eb6078-3196-4974-ca01-16f14ebf2e3d",
        "colab": {
          "base_uri": "https://localhost:8080/",
          "height": 34
        }
      },
      "source": [
        "train_image_gen.class_indices"
      ],
      "execution_count": 29,
      "outputs": [
        {
          "output_type": "execute_result",
          "data": {
            "text/plain": [
              "{'1': 0, '2': 1, '3': 2, '4': 3, '5': 4, '6': 5, '7': 6, '8': 7, '9': 8}"
            ]
          },
          "metadata": {
            "tags": []
          },
          "execution_count": 29
        }
      ]
    },
    {
      "cell_type": "code",
      "metadata": {
        "id": "Ov2pVv4bVTes",
        "colab_type": "code",
        "outputId": "a8853ddf-8bf2-4f84-9bca-69dacc09c8ca",
        "colab": {
          "base_uri": "https://localhost:8080/",
          "height": 1000
        }
      },
      "source": [
        "results = model.fit(train_image_gen,\n",
        "                              epochs=20,\n",
        "                             validation_data=test_image_gen,\n",
        "                             callbacks=[early_stop],\n",
        "                    )"
      ],
      "execution_count": 47,
      "outputs": [
        {
          "output_type": "stream",
          "text": [
            "Epoch 1/20\n",
            "198/199 [============================>.] - ETA: 0s - loss: 1.1651 - acc: 0.6238Epoch 1/20\n",
            "199/199 [==============================] - 35s 175ms/step - loss: 1.1604 - acc: 0.6253 - val_loss: 2.2925 - val_acc: 0.1735\n",
            "Epoch 2/20\n",
            "198/199 [============================>.] - ETA: 0s - loss: 0.2143 - acc: 0.9331Epoch 1/20\n",
            "199/199 [==============================] - 34s 170ms/step - loss: 0.2138 - acc: 0.9332 - val_loss: 2.2337 - val_acc: 0.2408\n",
            "Epoch 3/20\n",
            "198/199 [============================>.] - ETA: 0s - loss: 0.1395 - acc: 0.9567Epoch 1/20\n",
            "199/199 [==============================] - 33s 167ms/step - loss: 0.1392 - acc: 0.9567 - val_loss: 1.9784 - val_acc: 0.3557\n",
            "Epoch 4/20\n",
            "198/199 [============================>.] - ETA: 0s - loss: 0.1133 - acc: 0.9648Epoch 1/20\n",
            "199/199 [==============================] - 33s 168ms/step - loss: 0.1130 - acc: 0.9649 - val_loss: 1.8692 - val_acc: 0.3557\n",
            "Epoch 5/20\n",
            "198/199 [============================>.] - ETA: 0s - loss: 0.0972 - acc: 0.9680Epoch 1/20\n",
            "199/199 [==============================] - 33s 166ms/step - loss: 0.0974 - acc: 0.9680 - val_loss: 1.6734 - val_acc: 0.4425\n",
            "Epoch 6/20\n",
            "198/199 [============================>.] - ETA: 0s - loss: 0.0909 - acc: 0.9722Epoch 1/20\n",
            "199/199 [==============================] - 33s 168ms/step - loss: 0.0912 - acc: 0.9721 - val_loss: 1.6127 - val_acc: 0.4425\n",
            "Epoch 7/20\n",
            "198/199 [============================>.] - ETA: 0s - loss: 0.0814 - acc: 0.9741Epoch 1/20\n",
            "199/199 [==============================] - 33s 167ms/step - loss: 0.0812 - acc: 0.9741 - val_loss: 1.4393 - val_acc: 0.5141\n",
            "Epoch 8/20\n",
            "198/199 [============================>.] - ETA: 0s - loss: 0.0766 - acc: 0.9761Epoch 1/20\n",
            "199/199 [==============================] - 33s 168ms/step - loss: 0.0764 - acc: 0.9762 - val_loss: 1.5708 - val_acc: 0.4208\n",
            "Epoch 9/20\n",
            "198/199 [============================>.] - ETA: 0s - loss: 0.0749 - acc: 0.9755Epoch 1/20\n",
            "199/199 [==============================] - 33s 167ms/step - loss: 0.0751 - acc: 0.9754 - val_loss: 1.4014 - val_acc: 0.5445\n",
            "Epoch 10/20\n",
            "198/199 [============================>.] - ETA: 0s - loss: 0.0724 - acc: 0.9770Epoch 1/20\n",
            "199/199 [==============================] - 33s 166ms/step - loss: 0.0723 - acc: 0.9770 - val_loss: 1.3408 - val_acc: 0.5466\n",
            "Epoch 11/20\n",
            "198/199 [============================>.] - ETA: 0s - loss: 0.0657 - acc: 0.9781Epoch 1/20\n",
            "199/199 [==============================] - 33s 168ms/step - loss: 0.0657 - acc: 0.9781 - val_loss: 1.4735 - val_acc: 0.4946\n",
            "Epoch 12/20\n",
            "198/199 [============================>.] - ETA: 0s - loss: 0.0640 - acc: 0.9791Epoch 1/20\n",
            "199/199 [==============================] - 34s 169ms/step - loss: 0.0640 - acc: 0.9791 - val_loss: 1.1246 - val_acc: 0.6768\n",
            "Epoch 13/20\n",
            "198/199 [============================>.] - ETA: 0s - loss: 0.0655 - acc: 0.9795Epoch 1/20\n",
            "199/199 [==============================] - 33s 166ms/step - loss: 0.0654 - acc: 0.9795 - val_loss: 1.1897 - val_acc: 0.5987\n",
            "Epoch 14/20\n",
            "198/199 [============================>.] - ETA: 0s - loss: 0.0603 - acc: 0.9804Epoch 1/20\n",
            "199/199 [==============================] - 33s 166ms/step - loss: 0.0604 - acc: 0.9804 - val_loss: 1.1777 - val_acc: 0.5835\n",
            "Epoch 15/20\n",
            "198/199 [============================>.] - ETA: 0s - loss: 0.0573 - acc: 0.9817Epoch 1/20\n",
            "199/199 [==============================] - 34s 169ms/step - loss: 0.0575 - acc: 0.9817 - val_loss: 1.0335 - val_acc: 0.6573\n",
            "Epoch 16/20\n",
            "198/199 [============================>.] - ETA: 0s - loss: 0.0562 - acc: 0.9819Epoch 1/20\n",
            "199/199 [==============================] - 33s 166ms/step - loss: 0.0562 - acc: 0.9819 - val_loss: 0.9967 - val_acc: 0.6811\n",
            "Epoch 17/20\n",
            "198/199 [============================>.] - ETA: 0s - loss: 0.0578 - acc: 0.9824Epoch 1/20\n",
            "199/199 [==============================] - 33s 166ms/step - loss: 0.0578 - acc: 0.9824 - val_loss: 1.0131 - val_acc: 0.6616\n",
            "Epoch 18/20\n",
            "198/199 [============================>.] - ETA: 0s - loss: 0.0559 - acc: 0.9818Epoch 1/20\n",
            "199/199 [==============================] - 33s 168ms/step - loss: 0.0560 - acc: 0.9817 - val_loss: 0.9970 - val_acc: 0.6399\n",
            "Epoch 19/20\n",
            "198/199 [============================>.] - ETA: 0s - loss: 0.0546 - acc: 0.9828Epoch 1/20\n",
            "199/199 [==============================] - 33s 165ms/step - loss: 0.0546 - acc: 0.9829 - val_loss: 0.8482 - val_acc: 0.7419\n",
            "Epoch 20/20\n",
            "198/199 [============================>.] - ETA: 0s - loss: 0.0505 - acc: 0.9841Epoch 1/20\n",
            "199/199 [==============================] - 33s 164ms/step - loss: 0.0504 - acc: 0.9841 - val_loss: 0.8339 - val_acc: 0.7636\n"
          ],
          "name": "stdout"
        }
      ]
    },
    {
      "cell_type": "markdown",
      "metadata": {
        "id": "schPnKm9R2wN",
        "colab_type": "text"
      },
      "source": [
        "#Model Evaluation"
      ]
    },
    {
      "cell_type": "code",
      "metadata": {
        "id": "gtyXgAEv_MQS",
        "colab_type": "code",
        "colab": {}
      },
      "source": [
        "test_image_gen.reset()"
      ],
      "execution_count": 0,
      "outputs": []
    },
    {
      "cell_type": "code",
      "metadata": {
        "id": "PAJ8gYFCCt2K",
        "colab_type": "code",
        "colab": {
          "base_uri": "https://localhost:8080/",
          "height": 34
        },
        "outputId": "32970651-77c6-4ebe-df95-dd22c8480780"
      },
      "source": [
        "model.evaluate_generator(test_image_gen)"
      ],
      "execution_count": 49,
      "outputs": [
        {
          "output_type": "execute_result",
          "data": {
            "text/plain": [
              "[0.8604588210582733, 0.73752713]"
            ]
          },
          "metadata": {
            "tags": []
          },
          "execution_count": 49
        }
      ]
    },
    {
      "cell_type": "code",
      "metadata": {
        "id": "DZAJJW1dE-X7",
        "colab_type": "code",
        "colab": {}
      },
      "source": [
        "test_image_gen.reset()"
      ],
      "execution_count": 0,
      "outputs": []
    },
    {
      "cell_type": "code",
      "metadata": {
        "id": "dC7dFK9m_MT0",
        "colab_type": "code",
        "colab": {
          "base_uri": "https://localhost:8080/",
          "height": 68
        },
        "outputId": "ae49c72c-5424-4a90-c3a2-6e70ecd127b2"
      },
      "source": [
        "scores = model.evaluate(test_image_gen, verbose=1)\n",
        "print(\"CNN Error: %.2f%%\" % (100-scores[1]*100))\n",
        "print(\"CNN Acuracy: %.2f%%\" % (scores[1]*100))"
      ],
      "execution_count": 51,
      "outputs": [
        {
          "output_type": "stream",
          "text": [
            "2/2 [==============================] - 0s 186ms/step - loss: 0.8501 - acc: 0.7375\n",
            "CNN Error: 26.25%\n",
            "CNN Acuracy: 73.75%\n"
          ],
          "name": "stdout"
        }
      ]
    },
    {
      "cell_type": "code",
      "metadata": {
        "id": "DMvmyWY9NQHx",
        "colab_type": "code",
        "colab": {
          "base_uri": "https://localhost:8080/",
          "height": 292
        },
        "outputId": "70e2bb89-57ee-468c-f352-d5843cc8ec61"
      },
      "source": [
        "pred= model.predict_generator(test_image_gen)\n",
        "predicted_class_indices=np.argmax(pred,axis=1)\n",
        "labels = (test_image_gen.class_indices)\n",
        "labels2 = dict((v,k) for k,v in labels.items())\n",
        "predictions = [labels2[k] for k in predicted_class_indices]\n",
        "print(predicted_class_indices)\n",
        "print (labels)\n",
        "print (predictions)"
      ],
      "execution_count": 52,
      "outputs": [
        {
          "output_type": "stream",
          "text": [
            "[0 0 0 0 0 0 0 0 0 0 0 0 0 0 0 0 0 0 0 0 0 0 0 0 3 0 3 3 0 0 0 0 8 0 0 0 0\n",
            " 8 1 0 0 0 0 0 3 3 0 0 0 1 1 2 3 0 0 0 0 0 0 0 0 0 0 0 0 0 0 0 0 6 0 0 0 0\n",
            " 0 0 0 0 0 0 0 0 0 0 0 0 0 0 0 0 0 0 0 1 2 1 1 7 1 2 4 1 1 1 1 1 3 1 3 4 1\n",
            " 1 1 2 1 1 1 1 1 3 1 1 1 1 5 1 1 1 1 1 1 1 1 1 2 1 1 1 1 1 3 1 1 1 1 1 1 1\n",
            " 6 3 1 1 1 5 3 1 1 2 2 2 2 1 2 2 2 2 2 2 2 2 3 2 2 2 4 1 2 2 2 1 1 5 3 2 1\n",
            " 2 2 3 2 2 7 7 2 2 2 2 2 2 2 2 2 2 2 1 2 2 2 2 2 1 1 2 1 4 4 2 2 2 2 2 5 2\n",
            " 2 2 6 3 2 2 3 3 3 3 3 3 3 3 3 3 3 3 3 3 3 3 3 3 3 3 3 3 3 3 3 3 3 3 3 3 3\n",
            " 3 3 3 3 3 3 3 3 3 3 3 3 3 3 3 3 3 3 3 3 3 3 3 3 2 5 4 2 4 4 4 4 4 2 4 4 4\n",
            " 1 2 4 4 4 3 4 2 2 4 3 2 4 4 4 4 5 5 3 5 1 5 5 5 4 4 5 5 5 5 3 5 5 3 5 5 7\n",
            " 6 3 1 3 6 2 3 2 0 0 0 6 6 6 6 6 6 6 6 7 2 8 7 7 1 7 7 7 8 7 2 7 7 7 7 3 7\n",
            " 7 7 7 2 7 7 7 2 2 7 7 7 2 7 7 8 1 3 1 1 1 1 7 2 7 2 7 8 2 3 7 7 7 7 7 7 8\n",
            " 8 8 8 8 8 8 3 1 2 8 3 3 8 8 8 8 8 3 8 8 3 8 8 8 8 8 8 3 8 3 7 8 8 0 8 8 8\n",
            " 8 8 8 8 8 8 8 3 8 8 3 8 3 8 8 8 8]\n",
            "{'1': 0, '2': 1, '3': 2, '4': 3, '5': 4, '6': 5, '7': 6, '8': 7, '9': 8}\n",
            "['1', '1', '1', '1', '1', '1', '1', '1', '1', '1', '1', '1', '1', '1', '1', '1', '1', '1', '1', '1', '1', '1', '1', '1', '4', '1', '4', '4', '1', '1', '1', '1', '9', '1', '1', '1', '1', '9', '2', '1', '1', '1', '1', '1', '4', '4', '1', '1', '1', '2', '2', '3', '4', '1', '1', '1', '1', '1', '1', '1', '1', '1', '1', '1', '1', '1', '1', '1', '1', '7', '1', '1', '1', '1', '1', '1', '1', '1', '1', '1', '1', '1', '1', '1', '1', '1', '1', '1', '1', '1', '1', '1', '1', '2', '3', '2', '2', '8', '2', '3', '5', '2', '2', '2', '2', '2', '4', '2', '4', '5', '2', '2', '2', '3', '2', '2', '2', '2', '2', '4', '2', '2', '2', '2', '6', '2', '2', '2', '2', '2', '2', '2', '2', '2', '3', '2', '2', '2', '2', '2', '4', '2', '2', '2', '2', '2', '2', '2', '7', '4', '2', '2', '2', '6', '4', '2', '2', '3', '3', '3', '3', '2', '3', '3', '3', '3', '3', '3', '3', '3', '4', '3', '3', '3', '5', '2', '3', '3', '3', '2', '2', '6', '4', '3', '2', '3', '3', '4', '3', '3', '8', '8', '3', '3', '3', '3', '3', '3', '3', '3', '3', '3', '3', '2', '3', '3', '3', '3', '3', '2', '2', '3', '2', '5', '5', '3', '3', '3', '3', '3', '6', '3', '3', '3', '7', '4', '3', '3', '4', '4', '4', '4', '4', '4', '4', '4', '4', '4', '4', '4', '4', '4', '4', '4', '4', '4', '4', '4', '4', '4', '4', '4', '4', '4', '4', '4', '4', '4', '4', '4', '4', '4', '4', '4', '4', '4', '4', '4', '4', '4', '4', '4', '4', '4', '4', '4', '4', '4', '4', '4', '4', '4', '4', '3', '6', '5', '3', '5', '5', '5', '5', '5', '3', '5', '5', '5', '2', '3', '5', '5', '5', '4', '5', '3', '3', '5', '4', '3', '5', '5', '5', '5', '6', '6', '4', '6', '2', '6', '6', '6', '5', '5', '6', '6', '6', '6', '4', '6', '6', '4', '6', '6', '8', '7', '4', '2', '4', '7', '3', '4', '3', '1', '1', '1', '7', '7', '7', '7', '7', '7', '7', '7', '8', '3', '9', '8', '8', '2', '8', '8', '8', '9', '8', '3', '8', '8', '8', '8', '4', '8', '8', '8', '8', '3', '8', '8', '8', '3', '3', '8', '8', '8', '3', '8', '8', '9', '2', '4', '2', '2', '2', '2', '8', '3', '8', '3', '8', '9', '3', '4', '8', '8', '8', '8', '8', '8', '9', '9', '9', '9', '9', '9', '9', '4', '2', '3', '9', '4', '4', '9', '9', '9', '9', '9', '4', '9', '9', '4', '9', '9', '9', '9', '9', '9', '4', '9', '4', '8', '9', '9', '1', '9', '9', '9', '9', '9', '9', '9', '9', '9', '9', '4', '9', '9', '4', '9', '4', '9', '9', '9', '9']\n"
          ],
          "name": "stdout"
        }
      ]
    },
    {
      "cell_type": "code",
      "metadata": {
        "id": "jzZHK8c5OjAD",
        "colab_type": "code",
        "colab": {
          "base_uri": "https://localhost:8080/",
          "height": 170
        },
        "outputId": "b9020b92-dd1e-4253-b93b-96639b3bb011"
      },
      "source": [
        "from sklearn.metrics import confusion_matrix,classification_report\n",
        "print(confusion_matrix(predicted_class_indices, test_image_gen.classes))"
      ],
      "execution_count": 53,
      "outputs": [
        {
          "output_type": "stream",
          "text": [
            "[[80  0  0  0  0  0  3  0  1]\n",
            " [ 4 47  9  0  1  1  1  6  1]\n",
            " [ 1  4 50  0  7  0  2  9  1]\n",
            " [ 6  6  5 54  2  3  3  3 10]\n",
            " [ 0  2  3  0 17  3  0  0  0]\n",
            " [ 0  2  2  0  1 14  0  0  0]\n",
            " [ 1  1  1  0  0  0 10  0  0]\n",
            " [ 0  1  2  0  0  0  1 32  1]\n",
            " [ 2  0  0  0  0  0  0  4 41]]\n"
          ],
          "name": "stdout"
        }
      ]
    },
    {
      "cell_type": "code",
      "metadata": {
        "id": "WFmbci88GjCC",
        "colab_type": "code",
        "colab": {
          "base_uri": "https://localhost:8080/",
          "height": 289
        },
        "outputId": "847582fb-b287-4cc2-9a62-0970591b7de9"
      },
      "source": [
        "print(classification_report(test_image_gen.classes,predicted_class_indices))"
      ],
      "execution_count": 54,
      "outputs": [
        {
          "output_type": "stream",
          "text": [
            "              precision    recall  f1-score   support\n",
            "\n",
            "           0       0.95      0.85      0.90        94\n",
            "           1       0.67      0.75      0.71        63\n",
            "           2       0.68      0.69      0.68        72\n",
            "           3       0.59      1.00      0.74        54\n",
            "           4       0.68      0.61      0.64        28\n",
            "           5       0.74      0.67      0.70        21\n",
            "           6       0.77      0.50      0.61        20\n",
            "           7       0.86      0.59      0.70        54\n",
            "           8       0.87      0.75      0.80        55\n",
            "\n",
            "    accuracy                           0.75       461\n",
            "   macro avg       0.76      0.71      0.72       461\n",
            "weighted avg       0.77      0.75      0.75       461\n",
            "\n"
          ],
          "name": "stdout"
        }
      ]
    },
    {
      "cell_type": "markdown",
      "metadata": {
        "id": "XXY7HvLkV5AV",
        "colab_type": "text"
      },
      "source": [
        "#Manual Testing"
      ]
    },
    {
      "cell_type": "code",
      "metadata": {
        "id": "KDK2cpgxSXqn",
        "colab_type": "code",
        "colab": {}
      },
      "source": [
        "from tensorflow.keras.preprocessing import image"
      ],
      "execution_count": 0,
      "outputs": []
    },
    {
      "cell_type": "code",
      "metadata": {
        "id": "uu2YzEchVTfv",
        "colab_type": "code",
        "colab": {
          "base_uri": "https://localhost:8080/",
          "height": 71
        },
        "outputId": "eb5b0eaa-f3f7-4d0a-d560-1e9e442d58f2"
      },
      "source": [
        "my_image = image.load_img(image_1_file_location,target_size=image_shape,grayscale=True)"
      ],
      "execution_count": 56,
      "outputs": [
        {
          "output_type": "stream",
          "text": [
            "/usr/local/lib/python3.6/dist-packages/keras_preprocessing/image/utils.py:104: UserWarning: grayscale is deprecated. Please use color_mode = \"grayscale\"\n",
            "  warnings.warn('grayscale is deprecated. Please use '\n"
          ],
          "name": "stderr"
        }
      ]
    },
    {
      "cell_type": "code",
      "metadata": {
        "id": "E2XtTCyUVTf2",
        "colab_type": "code",
        "colab": {
          "base_uri": "https://localhost:8080/",
          "height": 45
        },
        "outputId": "9d4ec44e-a610-432e-dd04-6b5b0c107bdb"
      },
      "source": [
        "my_image"
      ],
      "execution_count": 57,
      "outputs": [
        {
          "output_type": "execute_result",
          "data": {
            "image/png": "[encoded data removed]",
            "text/plain": [
              "<PIL.PngImagePlugin.PngImageFile image mode=L size=28x28 at 0x7F93C5CD2550>"
            ]
          },
          "metadata": {
            "tags": []
          },
          "execution_count": 57
        }
      ]
    },
    {
      "cell_type": "code",
      "metadata": {
        "id": "45gThXddVTf6",
        "colab_type": "code",
        "colab": {
          "base_uri": "https://localhost:8080/",
          "height": 34
        },
        "outputId": "91d88901-5052-48c2-caff-4387353efe0f"
      },
      "source": [
        "my_image_arr = image.img_to_array(my_image)\n",
        "my_image_arr.shape"
      ],
      "execution_count": 58,
      "outputs": [
        {
          "output_type": "execute_result",
          "data": {
            "text/plain": [
              "(28, 28, 1)"
            ]
          },
          "metadata": {
            "tags": []
          },
          "execution_count": 58
        }
      ]
    },
    {
      "cell_type": "code",
      "metadata": {
        "id": "3j1cSaKOVTf_",
        "colab_type": "code",
        "colab": {}
      },
      "source": [
        "my_image_arr = np.expand_dims(my_image_arr,axis=0)\n",
        "#my_image_arr"
      ],
      "execution_count": 0,
      "outputs": []
    },
    {
      "cell_type": "code",
      "metadata": {
        "id": "-fJAtmbjVTgE",
        "colab_type": "code",
        "colab": {
          "base_uri": "https://localhost:8080/",
          "height": 34
        },
        "outputId": "ddb2e9b0-0445-40de-dc84-66432fb3d71a"
      },
      "source": [
        "model.predict_classes(my_image_arr)"
      ],
      "execution_count": 60,
      "outputs": [
        {
          "output_type": "execute_result",
          "data": {
            "text/plain": [
              "array([3])"
            ]
          },
          "metadata": {
            "tags": []
          },
          "execution_count": 60
        }
      ]
    },
    {
      "cell_type": "code",
      "metadata": {
        "id": "KwrWEXvhVTgJ",
        "colab_type": "code",
        "colab": {
          "base_uri": "https://localhost:8080/",
          "height": 34
        },
        "outputId": "f779dea4-ff97-4079-b2f5-4626cf51126d"
      },
      "source": [
        "train_image_gen.class_indices"
      ],
      "execution_count": 61,
      "outputs": [
        {
          "output_type": "execute_result",
          "data": {
            "text/plain": [
              "{'1': 0, '2': 1, '3': 2, '4': 3, '5': 4, '6': 5, '7': 6, '8': 7, '9': 8}"
            ]
          },
          "metadata": {
            "tags": []
          },
          "execution_count": 61
        }
      ]
    },
    {
      "cell_type": "markdown",
      "metadata": {
        "id": "xC1jt6UrjhuO",
        "colab_type": "text"
      },
      "source": [
        "#Predictions"
      ]
    },
    {
      "cell_type": "code",
      "metadata": {
        "id": "WGx3WIKYjhDR",
        "colab_type": "code",
        "colab": {}
      },
      "source": [
        "p = model.predict_classes(my_image_arr)"
      ],
      "execution_count": 0,
      "outputs": []
    },
    {
      "cell_type": "code",
      "metadata": {
        "id": "2ZV43v_tjhGa",
        "colab_type": "code",
        "colab": {}
      },
      "source": [
        "print(f\"Predicted Label is {labels2[p[0]]}\")"
      ],
      "execution_count": 0,
      "outputs": []
    },
    {
      "cell_type": "markdown",
      "metadata": {
        "id": "LK1opPp5V9LN",
        "colab_type": "text"
      },
      "source": [
        "#Saving the Model"
      ]
    },
    {
      "cell_type": "code",
      "metadata": {
        "id": "LuYNU6q0VTgP",
        "colab_type": "code",
        "colab": {}
      },
      "source": [
        "!mkdir -p saved_model\n",
        "model.save('saved_model/my_aplha2')"
      ],
      "execution_count": 0,
      "outputs": []
    },
    {
      "cell_type": "code",
      "metadata": {
        "id": "g7mHjMbsVTgV",
        "colab_type": "code",
        "colab": {}
      },
      "source": [
        ""
      ],
      "execution_count": 0,
      "outputs": []
    },
    {
      "cell_type": "code",
      "metadata": {
        "id": "OAU3MIs9VTgZ",
        "colab_type": "code",
        "colab": {}
      },
      "source": [
        ""
      ],
      "execution_count": 0,
      "outputs": []
    }
  ]
}