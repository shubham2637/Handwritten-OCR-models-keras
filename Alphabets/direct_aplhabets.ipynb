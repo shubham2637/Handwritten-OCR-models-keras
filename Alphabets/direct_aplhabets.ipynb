{
  "nbformat": 4,
  "nbformat_minor": 0,
  "metadata": {
    "kernelspec": {
      "name": "python3",
      "display_name": "Python 3"
    },
    "language_info": {
      "codemirror_mode": {
        "name": "ipython",
        "version": 3
      },
      "file_extension": ".py",
      "mimetype": "text/x-python",
      "name": "python",
      "nbconvert_exporter": "python",
      "pygments_lexer": "ipython3",
      "version": "3.6.10"
    },
    "colab": {
      "name": "direct_aplhabets.ipynb",
      "provenance": [],
      "toc_visible": true
    },
    "accelerator": "GPU"
  },
  "cells": [
    {
      "cell_type": "code",
      "metadata": {
        "id": "aWC8rxlIVTcG",
        "colab_type": "code",
        "colab": {}
      },
      "source": [
        "import os"
      ],
      "execution_count": 0,
      "outputs": []
    },
    {
      "cell_type": "code",
      "metadata": {
        "id": "t1_cbLinVbPN",
        "colab_type": "code",
        "outputId": "866f06ea-dcd2-418b-bb6d-1bcaebdef289",
        "colab": {
          "base_uri": "https://localhost:8080/",
          "height": 122
        }
      },
      "source": [
        "from google.colab import drive\n",
        "drive.mount('/content/drive')"
      ],
      "execution_count": 2,
      "outputs": [
        {
          "output_type": "stream",
          "text": [
            "Go to this URL in a browser: https://accounts.google.com/o/oauth2/auth?client_id=947318989803-6bn6qk8qdgf4n4g3pfee6491hc0brc4i.apps.googleusercontent.com&redirect_uri=urn%3aietf%3awg%3aoauth%3a2.0%3aoob&response_type=code&scope=email%20https%3a%2f%2fwww.googleapis.com%2fauth%2fdocs.test%20https%3a%2f%2fwww.googleapis.com%2fauth%2fdrive%20https%3a%2f%2fwww.googleapis.com%2fauth%2fdrive.photos.readonly%20https%3a%2f%2fwww.googleapis.com%2fauth%2fpeopleapi.readonly\n",
            "\n",
            "Enter your authorization code:\n",
            "··········\n",
            "Mounted at /content/drive\n"
          ],
          "name": "stdout"
        }
      ]
    },
    {
      "cell_type": "code",
      "metadata": {
        "id": "5_3YIbxAVTcT",
        "colab_type": "code",
        "outputId": "80039183-b050-4c5b-f4d3-5272020405a7",
        "colab": {
          "base_uri": "https://localhost:8080/",
          "height": 377
        }
      },
      "source": [
        "file = \"/content/drive/My Drive/ddd.rar\"\n",
        "!pip install rarfile\n",
        "!pip install patool\n",
        "from patoolib import extract_archive\n",
        "import os\n",
        "extract_to = 'data'\n",
        "os.mkdir(extract_to) \n",
        "extract_archive(file, outdir=extract_to)"
      ],
      "execution_count": 3,
      "outputs": [
        {
          "output_type": "stream",
          "text": [
            "Collecting rarfile\n",
            "\u001b[?25l  Downloading https://files.pythonhosted.org/packages/88/0b/107dde3f330d04668e126932a09002ac47348841453aa0391634381fa087/rarfile-3.1.tar.gz (121kB)\n",
            "\r\u001b[K     |██▊                             | 10kB 25.3MB/s eta 0:00:01\r\u001b[K     |█████▍                          | 20kB 32.8MB/s eta 0:00:01\r\u001b[K     |████████                        | 30kB 38.0MB/s eta 0:00:01\r\u001b[K     |██████████▉                     | 40kB 41.9MB/s eta 0:00:01\r\u001b[K     |█████████████▌                  | 51kB 38.1MB/s eta 0:00:01\r\u001b[K     |████████████████▏               | 61kB 40.0MB/s eta 0:00:01\r\u001b[K     |██████████████████▉             | 71kB 32.4MB/s eta 0:00:01\r\u001b[K     |█████████████████████▋          | 81kB 33.6MB/s eta 0:00:01\r\u001b[K     |████████████████████████▎       | 92kB 35.2MB/s eta 0:00:01\r\u001b[K     |███████████████████████████     | 102kB 33.8MB/s eta 0:00:01\r\u001b[K     |█████████████████████████████▋  | 112kB 33.8MB/s eta 0:00:01\r\u001b[K     |████████████████████████████████| 122kB 33.8MB/s \n",
            "\u001b[?25hBuilding wheels for collected packages: rarfile\n",
            "  Building wheel for rarfile (setup.py) ... \u001b[?25l\u001b[?25hdone\n",
            "  Created wheel for rarfile: filename=rarfile-3.1-cp36-none-any.whl size=24908 sha256=e38fc9c81b2fac7ee2d337b5f7f27815395312d44a80155fab33a0b2fccc54bf\n",
            "  Stored in directory: /root/.cache/pip/wheels/23/3c/c8/0215b6a5079492eff3be3f545ae0b0c4a66734c35c9e444eac\n",
            "Successfully built rarfile\n",
            "Installing collected packages: rarfile\n",
            "Successfully installed rarfile-3.1\n",
            "Collecting patool\n",
            "\u001b[?25l  Downloading https://files.pythonhosted.org/packages/43/94/52243ddff508780dd2d8110964320ab4851134a55ab102285b46e740f76a/patool-1.12-py2.py3-none-any.whl (77kB)\n",
            "\u001b[K     |████████████████████████████████| 81kB 8.6MB/s \n",
            "\u001b[?25hInstalling collected packages: patool\n",
            "Successfully installed patool-1.12\n",
            "patool: Extracting /content/drive/My Drive/ddd.rar ...\n",
            "patool: running /usr/bin/unrar x -- \"/content/drive/My Drive/ddd.rar\"\n",
            "patool:     with cwd='data'\n",
            "patool: ... /content/drive/My Drive/ddd.rar extracted to `data'.\n"
          ],
          "name": "stdout"
        },
        {
          "output_type": "execute_result",
          "data": {
            "text/plain": [
              "'data'"
            ]
          },
          "metadata": {
            "tags": []
          },
          "execution_count": 3
        }
      ]
    },
    {
      "cell_type": "code",
      "metadata": {
        "id": "T6HSqQCBVTcc",
        "colab_type": "code",
        "colab": {}
      },
      "source": [
        "data_dir = '/content/data/ddd'"
      ],
      "execution_count": 0,
      "outputs": []
    },
    {
      "cell_type": "code",
      "metadata": {
        "id": "WpYNDzyJVTci",
        "colab_type": "code",
        "outputId": "d915e8aa-eb96-4585-cf39-1e49147e834c",
        "colab": {
          "base_uri": "https://localhost:8080/",
          "height": 34
        }
      },
      "source": [
        "os.listdir(data_dir)"
      ],
      "execution_count": 132,
      "outputs": [
        {
          "output_type": "execute_result",
          "data": {
            "text/plain": [
              "['train', 'test']"
            ]
          },
          "metadata": {
            "tags": []
          },
          "execution_count": 132
        }
      ]
    },
    {
      "cell_type": "code",
      "metadata": {
        "id": "ed58saFIVTcp",
        "colab_type": "code",
        "colab": {}
      },
      "source": [
        "import pandas as pd\n",
        "import numpy as np\n",
        "import seaborn as sns\n",
        "import matplotlib.pyplot as plt\n",
        "from matplotlib.image import imread"
      ],
      "execution_count": 0,
      "outputs": []
    },
    {
      "cell_type": "code",
      "metadata": {
        "id": "7HIkWZzyVTcv",
        "colab_type": "code",
        "colab": {}
      },
      "source": [
        "\n",
        "test_path = data_dir+\"/test/\"\n",
        "train_path = data_dir+\"/train/\""
      ],
      "execution_count": 0,
      "outputs": []
    },
    {
      "cell_type": "code",
      "metadata": {
        "id": "JZTRkgu2VTc4",
        "colab_type": "code",
        "outputId": "7f6fdcca-8dcb-4104-cd65-8e9110087f71",
        "colab": {
          "base_uri": "https://localhost:8080/",
          "height": 459
        }
      },
      "source": [
        "os.listdir(test_path)"
      ],
      "execution_count": 135,
      "outputs": [
        {
          "output_type": "execute_result",
          "data": {
            "text/plain": [
              "['K',\n",
              " 'J',\n",
              " 'D',\n",
              " 'A',\n",
              " 'I',\n",
              " 'E',\n",
              " 'U',\n",
              " 'Z',\n",
              " 'O',\n",
              " 'X',\n",
              " 'M',\n",
              " 'L',\n",
              " 'W',\n",
              " 'N',\n",
              " 'H',\n",
              " 'B',\n",
              " 'R',\n",
              " 'F',\n",
              " 'T',\n",
              " 'C',\n",
              " 'P',\n",
              " 'S',\n",
              " 'V',\n",
              " 'Q',\n",
              " 'G',\n",
              " 'Y']"
            ]
          },
          "metadata": {
            "tags": []
          },
          "execution_count": 135
        }
      ]
    },
    {
      "cell_type": "code",
      "metadata": {
        "id": "p8Wer8yfVTc_",
        "colab_type": "code",
        "outputId": "4cfdf0b8-b889-42d9-b127-f0111406c65a",
        "colab": {
          "base_uri": "https://localhost:8080/",
          "height": 459
        }
      },
      "source": [
        "os.listdir(train_path)"
      ],
      "execution_count": 136,
      "outputs": [
        {
          "output_type": "execute_result",
          "data": {
            "text/plain": [
              "['K',\n",
              " 'J',\n",
              " 'D',\n",
              " 'A',\n",
              " 'I',\n",
              " 'E',\n",
              " 'U',\n",
              " 'Z',\n",
              " 'O',\n",
              " 'X',\n",
              " 'M',\n",
              " 'L',\n",
              " 'W',\n",
              " 'N',\n",
              " 'H',\n",
              " 'B',\n",
              " 'R',\n",
              " 'F',\n",
              " 'T',\n",
              " 'C',\n",
              " 'P',\n",
              " 'S',\n",
              " 'V',\n",
              " 'Q',\n",
              " 'G',\n",
              " 'Y']"
            ]
          },
          "metadata": {
            "tags": []
          },
          "execution_count": 136
        }
      ]
    },
    {
      "cell_type": "code",
      "metadata": {
        "id": "RNyEKvi4VTdF",
        "colab_type": "code",
        "outputId": "178e58e3-d182-4c72-8131-f0a440311be5",
        "colab": {
          "base_uri": "https://localhost:8080/",
          "height": 34
        }
      },
      "source": [
        "os.listdir(train_path+'B')[0]"
      ],
      "execution_count": 137,
      "outputs": [
        {
          "output_type": "execute_result",
          "data": {
            "text/plain": [
              "'B-8440.png'"
            ]
          },
          "metadata": {
            "tags": []
          },
          "execution_count": 137
        }
      ]
    },
    {
      "cell_type": "code",
      "metadata": {
        "id": "ND2NkQM9VTdL",
        "colab_type": "code",
        "colab": {}
      },
      "source": [
        "image_1_file_location =train_path+'B/'+ 'B-0.png'"
      ],
      "execution_count": 0,
      "outputs": []
    },
    {
      "cell_type": "code",
      "metadata": {
        "id": "QGRou6ZOVTdT",
        "colab_type": "code",
        "outputId": "ada0debf-6238-461c-8da5-2f0be9eaae8c",
        "colab": {
          "base_uri": "https://localhost:8080/",
          "height": 34
        }
      },
      "source": [
        "image_1_file_location"
      ],
      "execution_count": 139,
      "outputs": [
        {
          "output_type": "execute_result",
          "data": {
            "text/plain": [
              "'/content/data/ddd/train/B/B-0.png'"
            ]
          },
          "metadata": {
            "tags": []
          },
          "execution_count": 139
        }
      ]
    },
    {
      "cell_type": "code",
      "metadata": {
        "id": "KpSZv8xBVTdY",
        "colab_type": "code",
        "outputId": "d4579458-d56f-4ca0-81ad-ced11ebb2312",
        "colab": {
          "base_uri": "https://localhost:8080/",
          "height": 34
        }
      },
      "source": [
        "imread(image_1_file_location).shape"
      ],
      "execution_count": 140,
      "outputs": [
        {
          "output_type": "execute_result",
          "data": {
            "text/plain": [
              "(28, 28)"
            ]
          },
          "metadata": {
            "tags": []
          },
          "execution_count": 140
        }
      ]
    },
    {
      "cell_type": "code",
      "metadata": {
        "id": "ZelQKgY1VTde",
        "colab_type": "code",
        "outputId": "a03a054b-f844-4a1b-b271-a4fda536ff10",
        "colab": {
          "base_uri": "https://localhost:8080/",
          "height": 282
        }
      },
      "source": [
        "plt.imshow(imread(image_1_file_location))"
      ],
      "execution_count": 141,
      "outputs": [
        {
          "output_type": "execute_result",
          "data": {
            "text/plain": [
              "<matplotlib.image.AxesImage at 0x7f14b9562dd8>"
            ]
          },
          "metadata": {
            "tags": []
          },
          "execution_count": 141
        },
        {
          "output_type": "display_data",
          "data": {
            "image/png": "[encoded data removed]",
            "text/plain": [
              "<Figure size 432x288 with 1 Axes>"
            ]
          },
          "metadata": {
            "tags": []
          }
        }
      ]
    },
    {
      "cell_type": "code",
      "metadata": {
        "id": "T0H1A_w1VTdm",
        "colab_type": "code",
        "colab": {}
      },
      "source": [
        "image_shape = (28,28,1)"
      ],
      "execution_count": 0,
      "outputs": []
    },
    {
      "cell_type": "code",
      "metadata": {
        "id": "r7iDO6XuVTdr",
        "colab_type": "code",
        "colab": {}
      },
      "source": [
        "from tensorflow.keras.preprocessing.image import ImageDataGenerator"
      ],
      "execution_count": 0,
      "outputs": []
    },
    {
      "cell_type": "markdown",
      "metadata": {
        "id": "4nzZB3gLWv_A",
        "colab_type": "text"
      },
      "source": [
        ""
      ]
    },
    {
      "cell_type": "code",
      "metadata": {
        "id": "MDdYub1BWyc5",
        "colab_type": "code",
        "colab": {}
      },
      "source": [
        ""
      ],
      "execution_count": 0,
      "outputs": []
    },
    {
      "cell_type": "code",
      "metadata": {
        "id": "CLPG4Y2pVTdy",
        "colab_type": "code",
        "colab": {}
      },
      "source": [
        "image_gen = ImageDataGenerator(rotation_range=20,\n",
        "                              width_shift_range=0.1,\n",
        "                              height_shift_range=0.1,\n",
        "                              shear_range=0.1,\n",
        "                              zoom_range=0.1,\n",
        "                              horizontal_flip=True,\n",
        "                              fill_mode='nearest')"
      ],
      "execution_count": 0,
      "outputs": []
    },
    {
      "cell_type": "code",
      "metadata": {
        "id": "gjFFCJg2VTd4",
        "colab_type": "code",
        "outputId": "c4a23fd5-68b0-4ab9-f865-229f68d087af",
        "colab": {
          "base_uri": "https://localhost:8080/",
          "height": 51
        }
      },
      "source": [
        "image_gen.flow_from_directory(train_path)"
      ],
      "execution_count": 145,
      "outputs": [
        {
          "output_type": "stream",
          "text": [
            "Found 374651 images belonging to 26 classes.\n"
          ],
          "name": "stdout"
        },
        {
          "output_type": "execute_result",
          "data": {
            "text/plain": [
              "<keras_preprocessing.image.directory_iterator.DirectoryIterator at 0x7f14b94fdef0>"
            ]
          },
          "metadata": {
            "tags": []
          },
          "execution_count": 145
        }
      ]
    },
    {
      "cell_type": "code",
      "metadata": {
        "id": "H7RjHLxGVTd-",
        "colab_type": "code",
        "colab": {}
      },
      "source": [
        "from tensorflow.keras.models import Sequential\n",
        "from tensorflow.keras.layers import Flatten,Dense,Conv2D,MaxPooling2D,Dropout"
      ],
      "execution_count": 0,
      "outputs": []
    },
    {
      "cell_type": "code",
      "metadata": {
        "id": "gDpVVxrUVTeD",
        "colab_type": "code",
        "colab": {}
      },
      "source": [
        "model = Sequential()\n",
        "\n",
        "# CONVOLUTIONAL LAYER\n",
        "model.add(Conv2D(64, (5, 5), input_shape=(28, 28, 1), activation='relu', data_format=\"channels_last\", padding=\"same\"))\n",
        "model.add(Conv2D(64, (5, 5), input_shape=(28, 28, 1), activation='relu', data_format=\"channels_last\", padding=\"same\"))\n",
        "model.add(MaxPooling2D(pool_size=(2, 2)))\n",
        "\n",
        "\n",
        "model.add(Conv2D(128, (3, 3), activation='relu', data_format=\"channels_last\", padding=\"same\"))\n",
        "model.add(Conv2D(128, (3, 3), activation='relu', data_format=\"channels_last\", padding=\"same\"))\n",
        "model.add(MaxPooling2D(pool_size=(2, 2)))\n",
        "\n",
        "model.add(Dropout(0.2))\n",
        "\n",
        "\n",
        "#model.add(Conv2D(128, (3, 3), activation='relu', data_format=\"channels_last\", padding=\"same\"))\n",
        "#model.add(Conv2D(128, (3, 3), activation='relu', data_format=\"channels_last\", padding=\"same\"))\n",
        "#model.add(MaxPooling2D(pool_size=(2, 2)))\n",
        "\n",
        "#model.add(Dropout(0.2))\n",
        "\n",
        "model.add(Flatten())\n",
        "model.add(Dense(128, activation='relu'))\n",
        "#26 is the #of classes\n",
        "model.add(Dense(26, activation='softmax'))\n",
        "\n",
        "model.compile(loss='categorical_crossentropy', optimizer='adam', metrics=['accuracy'])"
      ],
      "execution_count": 0,
      "outputs": []
    },
    {
      "cell_type": "code",
      "metadata": {
        "id": "eZ9wlKoaVTeI",
        "colab_type": "code",
        "colab": {}
      },
      "source": [
        "from tensorflow.keras.callbacks import EarlyStopping"
      ],
      "execution_count": 0,
      "outputs": []
    },
    {
      "cell_type": "code",
      "metadata": {
        "id": "zK8xXBTBVTeP",
        "colab_type": "code",
        "colab": {}
      },
      "source": [
        "early_stop = EarlyStopping(monitor='val_loss',patience=5)"
      ],
      "execution_count": 0,
      "outputs": []
    },
    {
      "cell_type": "code",
      "metadata": {
        "id": "FUNu82TrVTeW",
        "colab_type": "code",
        "colab": {}
      },
      "source": [
        "batch_size = 256"
      ],
      "execution_count": 0,
      "outputs": []
    },
    {
      "cell_type": "code",
      "metadata": {
        "id": "Uio1HYjCVTeb",
        "colab_type": "code",
        "outputId": "bb92fd4b-21e5-46b7-c312-2bdbae298c5f",
        "colab": {
          "base_uri": "https://localhost:8080/",
          "height": 34
        }
      },
      "source": [
        "train_image_gen = image_gen.flow_from_directory(train_path,\n",
        "                                                target_size=image_shape[:2],\n",
        "                                                color_mode='grayscale',\n",
        "                                               batch_size=batch_size,\n",
        "                                               class_mode='categorical')"
      ],
      "execution_count": 176,
      "outputs": [
        {
          "output_type": "stream",
          "text": [
            "Found 374651 images belonging to 26 classes.\n"
          ],
          "name": "stdout"
        }
      ]
    },
    {
      "cell_type": "code",
      "metadata": {
        "id": "XQadKX7oVTeg",
        "colab_type": "code",
        "outputId": "77e5a62a-c95e-49f3-8073-b0b5ac267553",
        "colab": {
          "base_uri": "https://localhost:8080/",
          "height": 34
        }
      },
      "source": [
        "test_image_gen = image_gen.flow_from_directory(test_path,\n",
        "                                                target_size=image_shape[:2],\n",
        "                                                color_mode='grayscale',\n",
        "                                               class_mode='categorical',\n",
        "                                               batch_size=batch_size,\n",
        "                                               shuffle=False)"
      ],
      "execution_count": 177,
      "outputs": [
        {
          "output_type": "stream",
          "text": [
            "Found 2200 images belonging to 26 classes.\n"
          ],
          "name": "stdout"
        }
      ]
    },
    {
      "cell_type": "code",
      "metadata": {
        "id": "E1clxjwIVTel",
        "colab_type": "code",
        "outputId": "6b19b218-f7e2-4aba-fcd4-098c47188f06",
        "colab": {
          "base_uri": "https://localhost:8080/",
          "height": 459
        }
      },
      "source": [
        "train_image_gen.class_indices"
      ],
      "execution_count": 178,
      "outputs": [
        {
          "output_type": "execute_result",
          "data": {
            "text/plain": [
              "{'A': 0,\n",
              " 'B': 1,\n",
              " 'C': 2,\n",
              " 'D': 3,\n",
              " 'E': 4,\n",
              " 'F': 5,\n",
              " 'G': 6,\n",
              " 'H': 7,\n",
              " 'I': 8,\n",
              " 'J': 9,\n",
              " 'K': 10,\n",
              " 'L': 11,\n",
              " 'M': 12,\n",
              " 'N': 13,\n",
              " 'O': 14,\n",
              " 'P': 15,\n",
              " 'Q': 16,\n",
              " 'R': 17,\n",
              " 'S': 18,\n",
              " 'T': 19,\n",
              " 'U': 20,\n",
              " 'V': 21,\n",
              " 'W': 22,\n",
              " 'X': 23,\n",
              " 'Y': 24,\n",
              " 'Z': 25}"
            ]
          },
          "metadata": {
            "tags": []
          },
          "execution_count": 178
        }
      ]
    },
    {
      "cell_type": "code",
      "metadata": {
        "id": "Ov2pVv4bVTes",
        "colab_type": "code",
        "outputId": "5f11343d-e808-40d1-8810-ddd0d2a01ebf",
        "colab": {
          "base_uri": "https://localhost:8080/",
          "height": 51
        }
      },
      "source": [
        "results = model.fit(train_image_gen,\n",
        "                              epochs=100,\n",
        "                             validation_data=test_image_gen,\n",
        "                             callbacks=[early_stop],\n",
        "                    )"
      ],
      "execution_count": 0,
      "outputs": [
        {
          "output_type": "stream",
          "text": [
            "Epoch 1/100\n",
            " 208/1464 [===>..........................] - ETA: 2:40 - loss: 0.0879 - acc: 0.9740"
          ],
          "name": "stdout"
        }
      ]
    },
    {
      "cell_type": "markdown",
      "metadata": {
        "id": "schPnKm9R2wN",
        "colab_type": "text"
      },
      "source": [
        "#Model Evaluation"
      ]
    },
    {
      "cell_type": "code",
      "metadata": {
        "id": "gtyXgAEv_MQS",
        "colab_type": "code",
        "colab": {}
      },
      "source": [
        "test_image_gen.reset()"
      ],
      "execution_count": 0,
      "outputs": []
    },
    {
      "cell_type": "code",
      "metadata": {
        "id": "PAJ8gYFCCt2K",
        "colab_type": "code",
        "colab": {}
      },
      "source": [
        "model.evaluate_generator(test_image_gen)"
      ],
      "execution_count": 0,
      "outputs": []
    },
    {
      "cell_type": "code",
      "metadata": {
        "id": "DZAJJW1dE-X7",
        "colab_type": "code",
        "colab": {}
      },
      "source": [
        "test_image_gen.reset()"
      ],
      "execution_count": 0,
      "outputs": []
    },
    {
      "cell_type": "code",
      "metadata": {
        "id": "dC7dFK9m_MT0",
        "colab_type": "code",
        "colab": {}
      },
      "source": [
        "scores = model.evaluate(test_image_gen, verbose=1)\n",
        "print(\"CNN Error: %.2f%%\" % (100-scores[1]*100))\n",
        "print(\"CNN Acuracy: %.2f%%\" % (scores[1]*100))"
      ],
      "execution_count": 0,
      "outputs": []
    },
    {
      "cell_type": "code",
      "metadata": {
        "id": "DMvmyWY9NQHx",
        "colab_type": "code",
        "colab": {}
      },
      "source": [
        "pred= model.predict_generator(test_image_gen)\n",
        "predicted_class_indices=np.argmax(pred,axis=1)\n",
        "labels = (test_image_gen.class_indices)\n",
        "labels2 = dict((v,k) for k,v in labels.items())\n",
        "predictions = [labels2[k] for k in predicted_class_indices]\n",
        "print(predicted_class_indices)\n",
        "print (labels)\n",
        "print (predictions)"
      ],
      "execution_count": 0,
      "outputs": []
    },
    {
      "cell_type": "code",
      "metadata": {
        "id": "jzZHK8c5OjAD",
        "colab_type": "code",
        "colab": {}
      },
      "source": [
        "from sklearn.metrics import confusion_matrix,classification_report\n",
        "print(confusion_matrix(predicted_class_indices, test_image_gen.classes))"
      ],
      "execution_count": 0,
      "outputs": []
    },
    {
      "cell_type": "code",
      "metadata": {
        "id": "WFmbci88GjCC",
        "colab_type": "code",
        "colab": {}
      },
      "source": [
        "print(classification_report(test_image_gen.classes,predicted_class_indices))"
      ],
      "execution_count": 0,
      "outputs": []
    },
    {
      "cell_type": "code",
      "metadata": {
        "id": "EDUDj3ogGjJU",
        "colab_type": "code",
        "colab": {}
      },
      "source": [
        "from tensorflow.keras.preprocessing import image"
      ],
      "execution_count": 0,
      "outputs": []
    },
    {
      "cell_type": "code",
      "metadata": {
        "id": "KDK2cpgxSXqn",
        "colab_type": "code",
        "colab": {}
      },
      "source": [
        "from tensorflow.keras.preprocessing import image"
      ],
      "execution_count": 0,
      "outputs": []
    },
    {
      "cell_type": "code",
      "metadata": {
        "id": "uu2YzEchVTfv",
        "colab_type": "code",
        "colab": {}
      },
      "source": [
        "my_image = image.load_img(image_1_file_location,target_size=image_shape,grayscale=True)"
      ],
      "execution_count": 0,
      "outputs": []
    },
    {
      "cell_type": "code",
      "metadata": {
        "id": "E2XtTCyUVTf2",
        "colab_type": "code",
        "colab": {}
      },
      "source": [
        "my_image"
      ],
      "execution_count": 0,
      "outputs": []
    },
    {
      "cell_type": "code",
      "metadata": {
        "id": "45gThXddVTf6",
        "colab_type": "code",
        "colab": {}
      },
      "source": [
        "my_image_arr = image.img_to_array(my_image)\n",
        "my_image_arr.shape"
      ],
      "execution_count": 0,
      "outputs": []
    },
    {
      "cell_type": "code",
      "metadata": {
        "id": "3j1cSaKOVTf_",
        "colab_type": "code",
        "colab": {}
      },
      "source": [
        "my_image_arr = np.expand_dims(my_image_arr,axis=0)\n",
        "#my_image_arr"
      ],
      "execution_count": 0,
      "outputs": []
    },
    {
      "cell_type": "code",
      "metadata": {
        "id": "-fJAtmbjVTgE",
        "colab_type": "code",
        "colab": {}
      },
      "source": [
        "model.predict_classes(my_image_arr)"
      ],
      "execution_count": 0,
      "outputs": []
    },
    {
      "cell_type": "code",
      "metadata": {
        "id": "KwrWEXvhVTgJ",
        "colab_type": "code",
        "colab": {}
      },
      "source": [
        "p = model.predict_classes(my_image_arr)"
      ],
      "execution_count": 0,
      "outputs": []
    },
    {
      "cell_type": "code",
      "metadata": {
        "id": "eqDrtbebjdQc",
        "colab_type": "code",
        "colab": {}
      },
      "source": [
        "print(f\"Predicted Character is {labels2[p[0]]}\")"
      ],
      "execution_count": 0,
      "outputs": []
    },
    {
      "cell_type": "code",
      "metadata": {
        "id": "LuYNU6q0VTgP",
        "colab_type": "code",
        "colab": {}
      },
      "source": [
        "!mkdir -p saved_model\n",
        "model.save('saved_model/my_aplha2')"
      ],
      "execution_count": 0,
      "outputs": []
    },
    {
      "cell_type": "code",
      "metadata": {
        "id": "g7mHjMbsVTgV",
        "colab_type": "code",
        "colab": {}
      },
      "source": [
        ""
      ],
      "execution_count": 0,
      "outputs": []
    },
    {
      "cell_type": "code",
      "metadata": {
        "id": "OAU3MIs9VTgZ",
        "colab_type": "code",
        "colab": {}
      },
      "source": [
        ""
      ],
      "execution_count": 0,
      "outputs": []
    }
  ]
}