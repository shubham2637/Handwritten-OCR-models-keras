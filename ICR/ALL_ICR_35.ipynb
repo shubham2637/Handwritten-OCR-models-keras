{
  "nbformat": 4,
  "nbformat_minor": 0,
  "metadata": {
    "kernelspec": {
      "name": "python3",
      "display_name": "Python 3"
    },
    "language_info": {
      "codemirror_mode": {
        "name": "ipython",
        "version": 3
      },
      "file_extension": ".py",
      "mimetype": "text/x-python",
      "name": "python",
      "nbconvert_exporter": "python",
      "pygments_lexer": "ipython3",
      "version": "3.6.10"
    },
    "colab": {
      "name": "ALL_ICR_35.ipynb",
      "provenance": [],
      "collapsed_sections": [],
      "toc_visible": true
    },
    "accelerator": "GPU"
  },
  "cells": [
    {
      "cell_type": "code",
      "metadata": {
        "id": "aWC8rxlIVTcG",
        "colab_type": "code",
        "colab": {}
      },
      "source": [
        "import os"
      ],
      "execution_count": 0,
      "outputs": []
    },
    {
      "cell_type": "code",
      "metadata": {
        "id": "t1_cbLinVbPN",
        "colab_type": "code",
        "outputId": "9ce7ce2b-eaf6-48ff-9102-eb5326f522bb",
        "colab": {
          "base_uri": "https://localhost:8080/",
          "height": 122
        }
      },
      "source": [
        "from google.colab import drive\n",
        "drive.mount('/content/drive')"
      ],
      "execution_count": 2,
      "outputs": [
        {
          "output_type": "stream",
          "text": [
            "Go to this URL in a browser: https://accounts.google.com/o/oauth2/auth?client_id=947318989803-6bn6qk8qdgf4n4g3pfee6491hc0brc4i.apps.googleusercontent.com&redirect_uri=urn%3aietf%3awg%3aoauth%3a2.0%3aoob&response_type=code&scope=email%20https%3a%2f%2fwww.googleapis.com%2fauth%2fdocs.test%20https%3a%2f%2fwww.googleapis.com%2fauth%2fdrive%20https%3a%2f%2fwww.googleapis.com%2fauth%2fdrive.photos.readonly%20https%3a%2f%2fwww.googleapis.com%2fauth%2fpeopleapi.readonly\n",
            "\n",
            "Enter your authorization code:\n",
            "··········\n",
            "Mounted at /content/drive\n"
          ],
          "name": "stdout"
        }
      ]
    },
    {
      "cell_type": "code",
      "metadata": {
        "id": "5_3YIbxAVTcT",
        "colab_type": "code",
        "outputId": "f4f598c5-99b1-446f-fb5d-975f39a189e3",
        "colab": {
          "base_uri": "https://localhost:8080/",
          "height": 377
        }
      },
      "source": [
        "file = \"/content/drive/My Drive/thinktac_ICRrar.rar\"\n",
        "!pip install rarfile\n",
        "!pip install patool\n",
        "from patoolib import extract_archive\n",
        "import os\n",
        "extract_to = 'ICR'\n",
        "os.mkdir(extract_to) \n",
        "extract_archive(file, outdir=extract_to)"
      ],
      "execution_count": 3,
      "outputs": [
        {
          "output_type": "stream",
          "text": [
            "Collecting rarfile\n",
            "\u001b[?25l  Downloading https://files.pythonhosted.org/packages/88/0b/107dde3f330d04668e126932a09002ac47348841453aa0391634381fa087/rarfile-3.1.tar.gz (121kB)\n",
            "\r\u001b[K     |██▊                             | 10kB 23.6MB/s eta 0:00:01\r\u001b[K     |█████▍                          | 20kB 1.8MB/s eta 0:00:01\r\u001b[K     |████████                        | 30kB 2.6MB/s eta 0:00:01\r\u001b[K     |██████████▉                     | 40kB 1.7MB/s eta 0:00:01\r\u001b[K     |█████████████▌                  | 51kB 2.1MB/s eta 0:00:01\r\u001b[K     |████████████████▏               | 61kB 2.5MB/s eta 0:00:01\r\u001b[K     |██████████████████▉             | 71kB 2.9MB/s eta 0:00:01\r\u001b[K     |█████████████████████▋          | 81kB 3.3MB/s eta 0:00:01\r\u001b[K     |████████████████████████▎       | 92kB 3.7MB/s eta 0:00:01\r\u001b[K     |███████████████████████████     | 102kB 2.8MB/s eta 0:00:01\r\u001b[K     |█████████████████████████████▋  | 112kB 2.8MB/s eta 0:00:01\r\u001b[K     |████████████████████████████████| 122kB 2.8MB/s \n",
            "\u001b[?25hBuilding wheels for collected packages: rarfile\n",
            "  Building wheel for rarfile (setup.py) ... \u001b[?25l\u001b[?25hdone\n",
            "  Created wheel for rarfile: filename=rarfile-3.1-cp36-none-any.whl size=24908 sha256=67a6f8a44b87e983c1b6185ffd02d6a0ffab3ae1624c78f5283de650e9641cec\n",
            "  Stored in directory: /root/.cache/pip/wheels/23/3c/c8/0215b6a5079492eff3be3f545ae0b0c4a66734c35c9e444eac\n",
            "Successfully built rarfile\n",
            "Installing collected packages: rarfile\n",
            "Successfully installed rarfile-3.1\n",
            "Collecting patool\n",
            "\u001b[?25l  Downloading https://files.pythonhosted.org/packages/43/94/52243ddff508780dd2d8110964320ab4851134a55ab102285b46e740f76a/patool-1.12-py2.py3-none-any.whl (77kB)\n",
            "\u001b[K     |████████████████████████████████| 81kB 2.3MB/s \n",
            "\u001b[?25hInstalling collected packages: patool\n",
            "Successfully installed patool-1.12\n",
            "patool: Extracting /content/drive/My Drive/thinktac_ICRrar.rar ...\n",
            "patool: running /usr/bin/unrar x -- \"/content/drive/My Drive/thinktac_ICRrar.rar\"\n",
            "patool:     with cwd='ICR'\n",
            "patool: ... /content/drive/My Drive/thinktac_ICRrar.rar extracted to `ICR'.\n"
          ],
          "name": "stdout"
        },
        {
          "output_type": "execute_result",
          "data": {
            "text/plain": [
              "'ICR'"
            ]
          },
          "metadata": {
            "tags": []
          },
          "execution_count": 3
        }
      ]
    },
    {
      "cell_type": "code",
      "metadata": {
        "id": "T6HSqQCBVTcc",
        "colab_type": "code",
        "colab": {}
      },
      "source": [
        "data_dir = '/content/ICR/ddd'"
      ],
      "execution_count": 0,
      "outputs": []
    },
    {
      "cell_type": "code",
      "metadata": {
        "id": "WpYNDzyJVTci",
        "colab_type": "code",
        "outputId": "6f742075-9f10-475a-9050-96ac3e68770b",
        "colab": {
          "base_uri": "https://localhost:8080/",
          "height": 34
        }
      },
      "source": [
        "os.listdir(data_dir)"
      ],
      "execution_count": 5,
      "outputs": [
        {
          "output_type": "execute_result",
          "data": {
            "text/plain": [
              "['train', 'test']"
            ]
          },
          "metadata": {
            "tags": []
          },
          "execution_count": 5
        }
      ]
    },
    {
      "cell_type": "code",
      "metadata": {
        "id": "ed58saFIVTcp",
        "colab_type": "code",
        "colab": {}
      },
      "source": [
        "import pandas as pd\n",
        "import numpy as np\n",
        "import seaborn as sns\n",
        "import matplotlib.pyplot as plt\n",
        "from matplotlib.image import imread"
      ],
      "execution_count": 0,
      "outputs": []
    },
    {
      "cell_type": "code",
      "metadata": {
        "id": "7HIkWZzyVTcv",
        "colab_type": "code",
        "colab": {}
      },
      "source": [
        "\n",
        "test_path = data_dir+\"/test/\"\n",
        "train_path = data_dir+\"/train/\""
      ],
      "execution_count": 0,
      "outputs": []
    },
    {
      "cell_type": "code",
      "metadata": {
        "id": "JZTRkgu2VTc4",
        "colab_type": "code",
        "outputId": "215407db-cd6c-4cea-9b38-6a12fcd6f07f",
        "colab": {
          "base_uri": "https://localhost:8080/",
          "height": 612
        }
      },
      "source": [
        "os.listdir(test_path)"
      ],
      "execution_count": 8,
      "outputs": [
        {
          "output_type": "execute_result",
          "data": {
            "text/plain": [
              "['K',\n",
              " 'J',\n",
              " 'D',\n",
              " 'A',\n",
              " 'I',\n",
              " 'E',\n",
              " '3',\n",
              " 'U',\n",
              " 'Z',\n",
              " '5',\n",
              " 'O',\n",
              " 'X',\n",
              " 'M',\n",
              " '6',\n",
              " 'L',\n",
              " 'W',\n",
              " 'N',\n",
              " 'H',\n",
              " 'B',\n",
              " 'R',\n",
              " 'F',\n",
              " 'T',\n",
              " '7',\n",
              " '9',\n",
              " 'C',\n",
              " 'P',\n",
              " '1',\n",
              " 'S',\n",
              " '2',\n",
              " 'V',\n",
              " 'Q',\n",
              " '4',\n",
              " 'G',\n",
              " '8',\n",
              " 'Y']"
            ]
          },
          "metadata": {
            "tags": []
          },
          "execution_count": 8
        }
      ]
    },
    {
      "cell_type": "code",
      "metadata": {
        "id": "p8Wer8yfVTc_",
        "colab_type": "code",
        "colab": {}
      },
      "source": [
        "num_classes = len(os.listdir(train_path))"
      ],
      "execution_count": 0,
      "outputs": []
    },
    {
      "cell_type": "code",
      "metadata": {
        "id": "RNyEKvi4VTdF",
        "colab_type": "code",
        "outputId": "07fa3d8c-12a8-47e5-cb05-076d0e6bb54b",
        "colab": {
          "base_uri": "https://localhost:8080/",
          "height": 34
        }
      },
      "source": [
        "os.listdir(train_path+'G')[0]"
      ],
      "execution_count": 10,
      "outputs": [
        {
          "output_type": "execute_result",
          "data": {
            "text/plain": [
              "'G-2313.png'"
            ]
          },
          "metadata": {
            "tags": []
          },
          "execution_count": 10
        }
      ]
    },
    {
      "cell_type": "code",
      "metadata": {
        "id": "ND2NkQM9VTdL",
        "colab_type": "code",
        "colab": {}
      },
      "source": [
        "image_1_file_location =train_path+'G/'+ 'G-4751.png'"
      ],
      "execution_count": 0,
      "outputs": []
    },
    {
      "cell_type": "code",
      "metadata": {
        "id": "QGRou6ZOVTdT",
        "colab_type": "code",
        "outputId": "640773f9-16e7-4916-fa50-0d51f526434e",
        "colab": {
          "base_uri": "https://localhost:8080/",
          "height": 34
        }
      },
      "source": [
        "image_1_file_location"
      ],
      "execution_count": 12,
      "outputs": [
        {
          "output_type": "execute_result",
          "data": {
            "text/plain": [
              "'/content/ICR/ddd/train/G/G-4751.png'"
            ]
          },
          "metadata": {
            "tags": []
          },
          "execution_count": 12
        }
      ]
    },
    {
      "cell_type": "code",
      "metadata": {
        "id": "KpSZv8xBVTdY",
        "colab_type": "code",
        "outputId": "c07b8760-2cc6-4779-c513-04f7d24bc42f",
        "colab": {
          "base_uri": "https://localhost:8080/",
          "height": 34
        }
      },
      "source": [
        "imread(image_1_file_location).shape"
      ],
      "execution_count": 13,
      "outputs": [
        {
          "output_type": "execute_result",
          "data": {
            "text/plain": [
              "(28, 28)"
            ]
          },
          "metadata": {
            "tags": []
          },
          "execution_count": 13
        }
      ]
    },
    {
      "cell_type": "code",
      "metadata": {
        "id": "ZelQKgY1VTde",
        "colab_type": "code",
        "outputId": "99b187fe-fe7f-49f6-bfda-13a13a60a06e",
        "colab": {
          "base_uri": "https://localhost:8080/",
          "height": 282
        }
      },
      "source": [
        "plt.imshow(imread(image_1_file_location))"
      ],
      "execution_count": 14,
      "outputs": [
        {
          "output_type": "execute_result",
          "data": {
            "text/plain": [
              "<matplotlib.image.AxesImage at 0x7f1bfdeb1630>"
            ]
          },
          "metadata": {
            "tags": []
          },
          "execution_count": 14
        },
        {
          "output_type": "display_data",
          "data": {
            "image/png": "[encoded data removed]",
            "text/plain": [
              "<Figure size 432x288 with 1 Axes>"
            ]
          },
          "metadata": {
            "tags": []
          }
        }
      ]
    },
    {
      "cell_type": "code",
      "metadata": {
        "id": "T0H1A_w1VTdm",
        "colab_type": "code",
        "colab": {}
      },
      "source": [
        "image_shape = (28,28,1)"
      ],
      "execution_count": 0,
      "outputs": []
    },
    {
      "cell_type": "code",
      "metadata": {
        "id": "r7iDO6XuVTdr",
        "colab_type": "code",
        "outputId": "8f80152a-0994-4cc5-f3d2-e0c46631abba",
        "colab": {
          "base_uri": "https://localhost:8080/",
          "height": 63
        }
      },
      "source": [
        "from tensorflow.keras.preprocessing.image import ImageDataGenerator"
      ],
      "execution_count": 16,
      "outputs": [
        {
          "output_type": "display_data",
          "data": {
            "text/html": [
              "<p style=\"color: red;\">\n",
              "The default version of TensorFlow in Colab will soon switch to TensorFlow 2.x.<br>\n",
              "We recommend you <a href=\"https://www.tensorflow.org/guide/migrate\" target=\"_blank\">upgrade</a> now \n",
              "or ensure your notebook will continue to use TensorFlow 1.x via the <code>%tensorflow_version 1.x</code> magic:\n",
              "<a href=\"https://colab.research.google.com/notebooks/tensorflow_version.ipynb\" target=\"_blank\">more info</a>.</p>\n"
            ],
            "text/plain": [
              "<IPython.core.display.HTML object>"
            ]
          },
          "metadata": {
            "tags": []
          }
        }
      ]
    },
    {
      "cell_type": "markdown",
      "metadata": {
        "id": "4nzZB3gLWv_A",
        "colab_type": "text"
      },
      "source": [
        ""
      ]
    },
    {
      "cell_type": "code",
      "metadata": {
        "id": "MDdYub1BWyc5",
        "colab_type": "code",
        "colab": {}
      },
      "source": [
        ""
      ],
      "execution_count": 0,
      "outputs": []
    },
    {
      "cell_type": "code",
      "metadata": {
        "id": "CLPG4Y2pVTdy",
        "colab_type": "code",
        "colab": {}
      },
      "source": [
        "image_gen = ImageDataGenerator(rotation_range=20,\n",
        "                              width_shift_range=0.1,\n",
        "                              height_shift_range=0.1,\n",
        "                              shear_range=0.1,\n",
        "                              zoom_range=0.1,\n",
        "                              horizontal_flip=True,\n",
        "                              fill_mode='nearest')"
      ],
      "execution_count": 0,
      "outputs": []
    },
    {
      "cell_type": "code",
      "metadata": {
        "id": "gjFFCJg2VTd4",
        "colab_type": "code",
        "outputId": "de0c29bd-ce1b-40b5-a093-16ffa23268e9",
        "colab": {
          "base_uri": "https://localhost:8080/",
          "height": 51
        }
      },
      "source": [
        "image_gen.flow_from_directory(train_path)"
      ],
      "execution_count": 18,
      "outputs": [
        {
          "output_type": "stream",
          "text": [
            "Found 425512 images belonging to 35 classes.\n"
          ],
          "name": "stdout"
        },
        {
          "output_type": "execute_result",
          "data": {
            "text/plain": [
              "<keras_preprocessing.image.directory_iterator.DirectoryIterator at 0x7f1bfe5b6b00>"
            ]
          },
          "metadata": {
            "tags": []
          },
          "execution_count": 18
        }
      ]
    },
    {
      "cell_type": "code",
      "metadata": {
        "id": "H7RjHLxGVTd-",
        "colab_type": "code",
        "colab": {}
      },
      "source": [
        "from tensorflow.keras.models import Sequential\n",
        "from tensorflow.keras.layers import Flatten,Dense,Conv2D,MaxPooling2D,Dropout"
      ],
      "execution_count": 0,
      "outputs": []
    },
    {
      "cell_type": "code",
      "metadata": {
        "id": "gDpVVxrUVTeD",
        "colab_type": "code",
        "colab": {
          "base_uri": "https://localhost:8080/",
          "height": 88
        },
        "outputId": "fd3178ca-4dca-4f02-b70a-6d29cc8dd5b3"
      },
      "source": [
        "model = Sequential()\n",
        "\n",
        "# CONVOLUTIONAL LAYER\n",
        "model.add(Conv2D(64, (5, 5), input_shape=(28, 28, 1), activation='relu', data_format=\"channels_last\", padding=\"same\"))\n",
        "model.add(Conv2D(64, (5, 5), input_shape=(28, 28, 1), activation='relu', data_format=\"channels_last\", padding=\"same\"))\n",
        "model.add(MaxPooling2D(pool_size=(2, 2)))\n",
        "\n",
        "\n",
        "model.add(Conv2D(128, (3, 3), activation='relu', data_format=\"channels_last\", padding=\"same\"))\n",
        "model.add(Conv2D(256, (3, 3), activation='relu', data_format=\"channels_last\", padding=\"same\"))\n",
        "model.add(MaxPooling2D(pool_size=(2, 2)))\n",
        "\n",
        "model.add(Dropout(0.2))\n",
        "\n",
        "\n",
        "model.add(Conv2D(256, (3, 3), activation='relu', data_format=\"channels_last\", padding=\"same\"))\n",
        "model.add(Conv2D(128, (3, 3), activation='relu', data_format=\"channels_last\", padding=\"same\"))\n",
        "model.add(MaxPooling2D(pool_size=(2, 2)))\n",
        "\n",
        "model.add(Dropout(0.2))\n",
        "\n",
        "model.add(Flatten())\n",
        "model.add(Dense(128, activation='relu'))\n",
        "#26 is the #of classes\n",
        "model.add(Dense(num_classes, activation='softmax'))\n",
        "\n",
        "model.compile(loss='categorical_crossentropy', optimizer='adam', metrics=['accuracy'])"
      ],
      "execution_count": 20,
      "outputs": [
        {
          "output_type": "stream",
          "text": [
            "WARNING:tensorflow:From /usr/local/lib/python3.6/dist-packages/tensorflow_core/python/ops/resource_variable_ops.py:1630: calling BaseResourceVariable.__init__ (from tensorflow.python.ops.resource_variable_ops) with constraint is deprecated and will be removed in a future version.\n",
            "Instructions for updating:\n",
            "If using Keras pass *_constraint arguments to layers.\n"
          ],
          "name": "stdout"
        }
      ]
    },
    {
      "cell_type": "code",
      "metadata": {
        "id": "eZ9wlKoaVTeI",
        "colab_type": "code",
        "colab": {}
      },
      "source": [
        "from tensorflow.keras.callbacks import EarlyStopping"
      ],
      "execution_count": 0,
      "outputs": []
    },
    {
      "cell_type": "code",
      "metadata": {
        "id": "zK8xXBTBVTeP",
        "colab_type": "code",
        "colab": {}
      },
      "source": [
        "early_stop = EarlyStopping(monitor='val_loss',patience=5)"
      ],
      "execution_count": 0,
      "outputs": []
    },
    {
      "cell_type": "code",
      "metadata": {
        "id": "FUNu82TrVTeW",
        "colab_type": "code",
        "colab": {}
      },
      "source": [
        "batch_size = 512"
      ],
      "execution_count": 0,
      "outputs": []
    },
    {
      "cell_type": "code",
      "metadata": {
        "id": "Uio1HYjCVTeb",
        "colab_type": "code",
        "outputId": "7f9ebbf2-1acb-49af-8e89-0c95acc18678",
        "colab": {
          "base_uri": "https://localhost:8080/",
          "height": 34
        }
      },
      "source": [
        "train_image_gen = image_gen.flow_from_directory(train_path,\n",
        "                                                target_size=image_shape[:2],\n",
        "                                                color_mode='grayscale',\n",
        "                                               batch_size=batch_size,\n",
        "                                               class_mode='categorical')"
      ],
      "execution_count": 24,
      "outputs": [
        {
          "output_type": "stream",
          "text": [
            "Found 425512 images belonging to 35 classes.\n"
          ],
          "name": "stdout"
        }
      ]
    },
    {
      "cell_type": "code",
      "metadata": {
        "id": "XQadKX7oVTeg",
        "colab_type": "code",
        "outputId": "ecae52e6-509a-4ce3-cebf-f73a765a5922",
        "colab": {
          "base_uri": "https://localhost:8080/",
          "height": 34
        }
      },
      "source": [
        "test_image_gen = image_gen.flow_from_directory(test_path,\n",
        "                                                target_size=image_shape[:2],\n",
        "                                                color_mode='grayscale',\n",
        "                                               batch_size=batch_size,\n",
        "                                               class_mode='categorical',\n",
        "                                               shuffle=False)"
      ],
      "execution_count": 25,
      "outputs": [
        {
          "output_type": "stream",
          "text": [
            "Found 2661 images belonging to 35 classes.\n"
          ],
          "name": "stdout"
        }
      ]
    },
    {
      "cell_type": "code",
      "metadata": {
        "id": "E1clxjwIVTel",
        "colab_type": "code",
        "outputId": "1bc4b1c6-1aee-48d8-d641-003c36e593ca",
        "colab": {
          "base_uri": "https://localhost:8080/",
          "height": 612
        }
      },
      "source": [
        "train_image_gen.class_indices"
      ],
      "execution_count": 26,
      "outputs": [
        {
          "output_type": "execute_result",
          "data": {
            "text/plain": [
              "{'1': 0,\n",
              " '2': 1,\n",
              " '3': 2,\n",
              " '4': 3,\n",
              " '5': 4,\n",
              " '6': 5,\n",
              " '7': 6,\n",
              " '8': 7,\n",
              " '9': 8,\n",
              " 'A': 9,\n",
              " 'B': 10,\n",
              " 'C': 11,\n",
              " 'D': 12,\n",
              " 'E': 13,\n",
              " 'F': 14,\n",
              " 'G': 15,\n",
              " 'H': 16,\n",
              " 'I': 17,\n",
              " 'J': 18,\n",
              " 'K': 19,\n",
              " 'L': 20,\n",
              " 'M': 21,\n",
              " 'N': 22,\n",
              " 'O': 23,\n",
              " 'P': 24,\n",
              " 'Q': 25,\n",
              " 'R': 26,\n",
              " 'S': 27,\n",
              " 'T': 28,\n",
              " 'U': 29,\n",
              " 'V': 30,\n",
              " 'W': 31,\n",
              " 'X': 32,\n",
              " 'Y': 33,\n",
              " 'Z': 34}"
            ]
          },
          "metadata": {
            "tags": []
          },
          "execution_count": 26
        }
      ]
    },
    {
      "cell_type": "code",
      "metadata": {
        "id": "Ov2pVv4bVTes",
        "colab_type": "code",
        "outputId": "e55ee84f-86e3-4048-c7f5-706fe7116e4f",
        "colab": {
          "base_uri": "https://localhost:8080/",
          "height": 683
        }
      },
      "source": [
        "results = model.fit(train_image_gen,\n",
        "                              epochs=200,\n",
        "                             validation_data=test_image_gen,\n",
        "                             callbacks=[early_stop])"
      ],
      "execution_count": 0,
      "outputs": [
        {
          "output_type": "stream",
          "text": [
            "Epoch 1/200\n",
            "831/832 [============================>.] - ETA: 0s - loss: 0.0983 - acc: 0.9706Epoch 1/200\n",
            "832/832 [==============================] - 191s 229ms/step - loss: 0.0983 - acc: 0.9706 - val_loss: 1.0377 - val_acc: 0.7272\n",
            "Epoch 2/200\n",
            "831/832 [============================>.] - ETA: 0s - loss: 0.0948 - acc: 0.9723Epoch 1/200\n",
            "832/832 [==============================] - 188s 226ms/step - loss: 0.0948 - acc: 0.9723 - val_loss: 1.0290 - val_acc: 0.7306\n",
            "Epoch 3/200\n",
            "831/832 [============================>.] - ETA: 0s - loss: 0.0909 - acc: 0.9732Epoch 1/200\n",
            "832/832 [==============================] - 187s 225ms/step - loss: 0.0909 - acc: 0.9731 - val_loss: 1.0983 - val_acc: 0.7136\n",
            "Epoch 4/200\n",
            "831/832 [============================>.] - ETA: 0s - loss: 0.0884 - acc: 0.9739Epoch 1/200\n",
            "832/832 [==============================] - 187s 225ms/step - loss: 0.0885 - acc: 0.9739 - val_loss: 0.8914 - val_acc: 0.7512\n",
            "Epoch 5/200\n",
            "831/832 [============================>.] - ETA: 0s - loss: 0.0865 - acc: 0.9741Epoch 1/200\n",
            "832/832 [==============================] - 187s 224ms/step - loss: 0.0864 - acc: 0.9741 - val_loss: 0.8724 - val_acc: 0.7696\n",
            "Epoch 6/200\n",
            "831/832 [============================>.] - ETA: 0s - loss: 0.0834 - acc: 0.9748Epoch 1/200\n",
            "832/832 [==============================] - 188s 226ms/step - loss: 0.0834 - acc: 0.9748 - val_loss: 0.8130 - val_acc: 0.7738\n",
            "Epoch 7/200\n",
            "831/832 [============================>.] - ETA: 0s - loss: 0.0822 - acc: 0.9757Epoch 1/200\n",
            "832/832 [==============================] - 189s 227ms/step - loss: 0.0822 - acc: 0.9756 - val_loss: 0.7581 - val_acc: 0.7944\n",
            "Epoch 8/200\n",
            "831/832 [============================>.] - ETA: 0s - loss: 0.0813 - acc: 0.9756Epoch 1/200\n",
            "832/832 [==============================] - 187s 225ms/step - loss: 0.0813 - acc: 0.9756 - val_loss: 0.8620 - val_acc: 0.7730\n",
            "Epoch 9/200\n",
            "831/832 [============================>.] - ETA: 0s - loss: 0.0788 - acc: 0.9762Epoch 1/200\n",
            "832/832 [==============================] - 189s 228ms/step - loss: 0.0788 - acc: 0.9762 - val_loss: 0.7365 - val_acc: 0.7948\n",
            "Epoch 10/200\n",
            "831/832 [============================>.] - ETA: 0s - loss: 0.0790 - acc: 0.9765Epoch 1/200\n",
            "832/832 [==============================] - 189s 227ms/step - loss: 0.0790 - acc: 0.9765 - val_loss: 0.8530 - val_acc: 0.7764\n",
            "Epoch 11/200\n",
            "831/832 [============================>.] - ETA: 0s - loss: 0.0774 - acc: 0.9767Epoch 1/200\n",
            "832/832 [==============================] - 187s 224ms/step - loss: 0.0775 - acc: 0.9767 - val_loss: 0.9095 - val_acc: 0.7704\n",
            "Epoch 12/200\n",
            "831/832 [============================>.] - ETA: 0s - loss: 0.0775 - acc: 0.9767Epoch 1/200\n",
            "832/832 [==============================] - 186s 224ms/step - loss: 0.0775 - acc: 0.9767 - val_loss: 0.7180 - val_acc: 0.7948\n",
            "Epoch 13/200\n",
            "775/832 [==========================>...] - ETA: 12s - loss: 0.0757 - acc: 0.9770"
          ],
          "name": "stdout"
        }
      ]
    },
    {
      "cell_type": "code",
      "metadata": {
        "id": "lLXAHZs9KI86",
        "colab_type": "code",
        "colab": {}
      },
      "source": [
        "test_image_gen = image_gen.flow_from_directory(test_path,\n",
        "                                                target_size=image_shape[:2],\n",
        "                                                color_mode='grayscale',\n",
        "                                               class_mode='categorical',\n",
        "                                               batch_size=batch_size,\n",
        "                                               shuffle=False)"
      ],
      "execution_count": 0,
      "outputs": []
    },
    {
      "cell_type": "markdown",
      "metadata": {
        "id": "jlKKeMiMPCTD",
        "colab_type": "text"
      },
      "source": [
        "Model Evaluations\n"
      ]
    },
    {
      "cell_type": "code",
      "metadata": {
        "id": "Smn6OsxAKv84",
        "colab_type": "code",
        "colab": {}
      },
      "source": [
        "test_image_gen.reset()"
      ],
      "execution_count": 0,
      "outputs": []
    },
    {
      "cell_type": "code",
      "metadata": {
        "id": "Qm4JcME3ZN1e",
        "colab_type": "code",
        "colab": {}
      },
      "source": [
        "model.save('final_ICR')"
      ],
      "execution_count": 0,
      "outputs": []
    },
    {
      "cell_type": "code",
      "metadata": {
        "id": "7b8IZqfMVTez",
        "colab_type": "code",
        "colab": {}
      },
      "source": [
        "model.evaluate_generator(test_image_gen)"
      ],
      "execution_count": 0,
      "outputs": []
    },
    {
      "cell_type": "code",
      "metadata": {
        "id": "EVlnbf0tZM6z",
        "colab_type": "code",
        "colab": {}
      },
      "source": [
        ""
      ],
      "execution_count": 0,
      "outputs": []
    },
    {
      "cell_type": "code",
      "metadata": {
        "id": "O8Dk4155VTe5",
        "colab_type": "code",
        "colab": {}
      },
      "source": [
        "train_image_gen"
      ],
      "execution_count": 0,
      "outputs": []
    },
    {
      "cell_type": "code",
      "metadata": {
        "id": "6K2CoAvwVTfA",
        "colab_type": "code",
        "colab": {}
      },
      "source": [
        "model.metrics_names"
      ],
      "execution_count": 0,
      "outputs": []
    },
    {
      "cell_type": "code",
      "metadata": {
        "id": "unSNVZ0IVTfF",
        "colab_type": "code",
        "colab": {}
      },
      "source": [
        "scores = model.evaluate(test_image_gen, verbose=1)\n",
        "print(\"CNN Error: %.2f%%\" % (100-scores[1]*100))\n",
        "print(\"CNN Acuracy: %.2f%%\" % (scores[1]*100))"
      ],
      "execution_count": 0,
      "outputs": []
    },
    {
      "cell_type": "code",
      "metadata": {
        "id": "CgstIpy8VTfN",
        "colab_type": "code",
        "colab": {}
      },
      "source": [
        "#pred = model.predict_generator(test_image_gen)"
      ],
      "execution_count": 0,
      "outputs": []
    },
    {
      "cell_type": "code",
      "metadata": {
        "id": "z3GIpeXePc_H",
        "colab_type": "code",
        "colab": {}
      },
      "source": [
        "pred= model.predict_generator(test_image_gen)\n",
        "predicted_class_indices=np.argmax(pred,axis=1)\n",
        "labels = (test_image_gen.class_indices)\n",
        "labels2 = dict((v,k) for k,v in labels.items())\n",
        "predictions = [labels2[k] for k in predicted_class_indices]\n",
        "print(predicted_class_indices)\n",
        "print (labels)\n",
        "print (predictions)"
      ],
      "execution_count": 0,
      "outputs": []
    },
    {
      "cell_type": "code",
      "metadata": {
        "id": "MSR2vk8CVTfT",
        "colab_type": "code",
        "colab": {}
      },
      "source": [
        "from sklearn.metrics import confusion_matrix,classification_report\n",
        "print(confusion_matrix(predicted_class_indices, test_image_gen.classes))"
      ],
      "execution_count": 0,
      "outputs": []
    },
    {
      "cell_type": "code",
      "metadata": {
        "id": "HUJgB4kEVTfY",
        "colab_type": "code",
        "colab": {}
      },
      "source": [
        "print(classification_report(test_image_gen.classes,predicted_class_indices))"
      ],
      "execution_count": 0,
      "outputs": []
    },
    {
      "cell_type": "code",
      "metadata": {
        "id": "sa6Oon-mVTfe",
        "colab_type": "code",
        "colab": {}
      },
      "source": [
        "test_image_gen.classes.shape"
      ],
      "execution_count": 0,
      "outputs": []
    },
    {
      "cell_type": "code",
      "metadata": {
        "id": "0ktjpB38VTfm",
        "colab_type": "code",
        "colab": {}
      },
      "source": [
        "#print(classification_report(test_image_gen.classes,predictions))"
      ],
      "execution_count": 0,
      "outputs": []
    },
    {
      "cell_type": "code",
      "metadata": {
        "id": "2yS3_ECZVTfr",
        "colab_type": "code",
        "colab": {}
      },
      "source": [
        "from tensorflow.keras.preprocessing import image"
      ],
      "execution_count": 0,
      "outputs": []
    },
    {
      "cell_type": "code",
      "metadata": {
        "id": "uu2YzEchVTfv",
        "colab_type": "code",
        "colab": {}
      },
      "source": [
        "my_image = image.load_img(image_1_file_location,target_size=image_shape,grayscale=True)"
      ],
      "execution_count": 0,
      "outputs": []
    },
    {
      "cell_type": "code",
      "metadata": {
        "id": "E2XtTCyUVTf2",
        "colab_type": "code",
        "colab": {}
      },
      "source": [
        "my_image"
      ],
      "execution_count": 0,
      "outputs": []
    },
    {
      "cell_type": "code",
      "metadata": {
        "id": "45gThXddVTf6",
        "colab_type": "code",
        "colab": {}
      },
      "source": [
        "my_image_arr = image.img_to_array(my_image)\n",
        "my_image_arr.shape"
      ],
      "execution_count": 0,
      "outputs": []
    },
    {
      "cell_type": "code",
      "metadata": {
        "id": "3j1cSaKOVTf_",
        "colab_type": "code",
        "colab": {}
      },
      "source": [
        "my_image_arr = np.expand_dims(my_image_arr,axis=0)\n",
        "my_image_arr.shape"
      ],
      "execution_count": 0,
      "outputs": []
    },
    {
      "cell_type": "markdown",
      "metadata": {
        "id": "c2IHJrFpRIlb",
        "colab_type": "text"
      },
      "source": [
        "## Input size of image (1, 28, 28, 1)"
      ]
    },
    {
      "cell_type": "code",
      "metadata": {
        "id": "-fJAtmbjVTgE",
        "colab_type": "code",
        "colab": {}
      },
      "source": [
        " p = model.predict_classes(my_image_arr)"
      ],
      "execution_count": 0,
      "outputs": []
    },
    {
      "cell_type": "code",
      "metadata": {
        "id": "KwrWEXvhVTgJ",
        "colab_type": "code",
        "colab": {}
      },
      "source": [
        "#train_image_gen.class_indices"
      ],
      "execution_count": 0,
      "outputs": []
    },
    {
      "cell_type": "code",
      "metadata": {
        "id": "LuYNU6q0VTgP",
        "colab_type": "code",
        "colab": {}
      },
      "source": [
        "labels2[p[0]]"
      ],
      "execution_count": 0,
      "outputs": []
    },
    {
      "cell_type": "code",
      "metadata": {
        "id": "g7mHjMbsVTgV",
        "colab_type": "code",
        "colab": {}
      },
      "source": [
        "print(f\"Predicted Label is {labels2[p[0]]}\")"
      ],
      "execution_count": 0,
      "outputs": []
    },
    {
      "cell_type": "code",
      "metadata": {
        "id": "OAU3MIs9VTgZ",
        "colab_type": "code",
        "colab": {}
      },
      "source": [
        ""
      ],
      "execution_count": 0,
      "outputs": []
    }
  ]
}